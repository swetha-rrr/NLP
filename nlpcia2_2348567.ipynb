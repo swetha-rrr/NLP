{
  "nbformat": 4,
  "nbformat_minor": 0,
  "metadata": {
    "colab": {
      "provenance": []
    },
    "kernelspec": {
      "name": "python3",
      "display_name": "Python 3"
    },
    "language_info": {
      "name": "python"
    }
  },
  "cells": [
    {
      "cell_type": "markdown",
      "source": [
        "q1::"
      ],
      "metadata": {
        "id": "UyCvDWzSiUW1"
      }
    },
    {
      "cell_type": "code",
      "source": [
        "import nltk\n",
        "from nltk.corpus import stopwords\n",
        "from nltk.tokenize import word_tokenize, sent_tokenize\n",
        "from nltk.stem import PorterStemmer, SnowballStemmer, WordNetLemmatizer\n",
        "from nltk.probability import FreqDist\n",
        "import string\n",
        "from nltk import pos_tag, ne_chunk\n",
        "from nltk.tokenize import sent_tokenize\n"
      ],
      "metadata": {
        "id": "3EbHwJ6qcbAx"
      },
      "execution_count": 94,
      "outputs": []
    },
    {
      "cell_type": "code",
      "source": [
        "text= \"\"\"\n",
        "Transformer is an exceptional innovation in the field of Deep Learning, contributed by Ashish Vaswani et al. (2017), Google. The transformer is the most influential Neural Network model that has shown outstanding performance on various NLP tasks including Machine Reading Comprehension, Machine translation and sentence classification. Attention mechanism and parallelization are the prominent features in the transformers. Consequently, it can facilitate long-range dependencies without any gradient vanishing or gradient explosion problems and it overcomes the drawbacks of the existing methods such as RNN and LSTM. The transformer is executed with an encoder-decoder mechanism and the original article of transformers # “Attention All You Need”.\n",
        "\"\"\""
      ],
      "metadata": {
        "id": "JtBEqlJEjrmk"
      },
      "execution_count": 95,
      "outputs": []
    },
    {
      "cell_type": "code",
      "source": [
        "print(len(text))"
      ],
      "metadata": {
        "colab": {
          "base_uri": "https://localhost:8080/"
        },
        "id": "AM5CX8zqgo8a",
        "outputId": "f0978927-b923-4b42-b278-2a5860942dd2"
      },
      "execution_count": 96,
      "outputs": [
        {
          "output_type": "stream",
          "name": "stdout",
          "text": [
            "751\n"
          ]
        }
      ]
    },
    {
      "cell_type": "markdown",
      "source": [
        "Sentence and word Tokenization: Sentence tokenization basically means breaking down the corpus into sentences based on the pull stop, commas, punctuations. it can be achieved through sentence token.\n",
        "\n",
        "word tokenization: word tokenization means breaking the corpus into tokens ie single single words.\n",
        "\n",
        "Stop words removal: stop words removal means removing the unnecessary words like and, or, is, what all these basic words are removed so the text contains only the useful words."
      ],
      "metadata": {
        "id": "69uYWlyyftm0"
      }
    },
    {
      "cell_type": "code",
      "source": [
        "word_tokenize(text)"
      ],
      "metadata": {
        "colab": {
          "base_uri": "https://localhost:8080/"
        },
        "id": "sLS9SSCegB5-",
        "outputId": "40df7e51-6c45-44ed-b0c5-bdc57208aa09"
      },
      "execution_count": 65,
      "outputs": [
        {
          "output_type": "execute_result",
          "data": {
            "text/plain": [
              "['Transformer',\n",
              " 'is',\n",
              " 'an',\n",
              " 'exceptional',\n",
              " 'innovation',\n",
              " 'in',\n",
              " 'the',\n",
              " 'field',\n",
              " 'of',\n",
              " 'Deep',\n",
              " 'Learning',\n",
              " 'contributed',\n",
              " 'by',\n",
              " 'Ashish',\n",
              " 'Vaswani',\n",
              " 'et',\n",
              " 'al',\n",
              " '2017',\n",
              " 'Google',\n",
              " 'The',\n",
              " 'transformer',\n",
              " 'is',\n",
              " 'the',\n",
              " 'most',\n",
              " 'influential',\n",
              " 'Neural',\n",
              " 'Network',\n",
              " 'model',\n",
              " 'that',\n",
              " 'has',\n",
              " 'shown',\n",
              " 'outstanding',\n",
              " 'performance',\n",
              " 'on',\n",
              " 'various',\n",
              " 'NLP',\n",
              " 'tasks',\n",
              " 'including',\n",
              " 'Machine',\n",
              " 'Reading',\n",
              " 'Comprehension',\n",
              " 'Machine',\n",
              " 'translation',\n",
              " 'and',\n",
              " 'sentence',\n",
              " 'classification',\n",
              " 'Attention',\n",
              " 'mechanism',\n",
              " 'and',\n",
              " 'parallelization',\n",
              " 'are',\n",
              " 'the',\n",
              " 'prominent',\n",
              " 'features',\n",
              " 'in',\n",
              " 'the',\n",
              " 'transformers',\n",
              " 'Consequently',\n",
              " 'it',\n",
              " 'can',\n",
              " 'facilitate',\n",
              " 'longrange',\n",
              " 'dependencies',\n",
              " 'without',\n",
              " 'any',\n",
              " 'gradient',\n",
              " 'vanishing',\n",
              " 'or',\n",
              " 'gradient',\n",
              " 'explosion',\n",
              " 'problems',\n",
              " 'and',\n",
              " 'it',\n",
              " 'overcomes',\n",
              " 'the',\n",
              " 'drawbacks',\n",
              " 'of',\n",
              " 'the',\n",
              " 'existing',\n",
              " 'methods',\n",
              " 'such',\n",
              " 'as',\n",
              " 'RNN',\n",
              " 'and',\n",
              " 'LSTM',\n",
              " 'The',\n",
              " 'transformer',\n",
              " 'is',\n",
              " 'executed',\n",
              " 'with',\n",
              " 'an',\n",
              " 'encoderdecoder',\n",
              " 'mechanism',\n",
              " 'and',\n",
              " 'the',\n",
              " 'original',\n",
              " 'article',\n",
              " 'of',\n",
              " 'transformers',\n",
              " '“',\n",
              " 'Attention',\n",
              " 'All',\n",
              " 'You',\n",
              " 'Need',\n",
              " '”']"
            ]
          },
          "metadata": {},
          "execution_count": 65
        }
      ]
    },
    {
      "cell_type": "code",
      "source": [
        "sent_tokenize(text)"
      ],
      "metadata": {
        "colab": {
          "base_uri": "https://localhost:8080/"
        },
        "id": "WpCg2fUtgI8m",
        "outputId": "6a336d79-ed9e-417b-eb44-b9fd83182714"
      },
      "execution_count": 69,
      "outputs": [
        {
          "output_type": "execute_result",
          "data": {
            "text/plain": [
              "['\\nTransformer is an exceptional innovation in the field of Deep Learning, contributed by Ashish Vaswani et al.',\n",
              " '(2017), Google.',\n",
              " 'The transformer is the most influential Neural Network model that has shown outstanding performance on various NLP tasks including Machine Reading Comprehension, Machine translation and sentence classification.',\n",
              " 'Attention mechanism and parallelization are the prominent features in the transformers.',\n",
              " 'Consequently, it can facilitate long-range dependencies without any gradient vanishing or gradient explosion problems and it overcomes the drawbacks of the existing methods such as RNN and LSTM.',\n",
              " 'The transformer is executed with an encoder-decoder mechanism and the original article of transformers # “Attention All You Need”.']"
            ]
          },
          "metadata": {},
          "execution_count": 69
        }
      ]
    },
    {
      "cell_type": "markdown",
      "source": [
        "\n",
        "Stop words removal: stop words removal means removing the unnecessary words like and, or, is, what all these basic words are removed so the text contains only the useful words."
      ],
      "metadata": {
        "id": "AydYAunYibgu"
      }
    },
    {
      "cell_type": "code",
      "source": [
        "from nltk.corpus import stopwords\n",
        "import matplotlib.pyplot as plt\n",
        "tokens = nltk.word_tokenize(text.lower())\n",
        "nltk.download('stopwords')\n",
        "stop_words = set(stopwords.words('english'))"
      ],
      "metadata": {
        "colab": {
          "base_uri": "https://localhost:8080/"
        },
        "id": "O-HxXk3minYY",
        "outputId": "e40bd227-1e33-4cad-d4e1-0b7d00757dd3"
      },
      "execution_count": 97,
      "outputs": [
        {
          "output_type": "stream",
          "name": "stderr",
          "text": [
            "[nltk_data] Downloading package stopwords to /root/nltk_data...\n",
            "[nltk_data]   Package stopwords is already up-to-date!\n"
          ]
        }
      ]
    },
    {
      "cell_type": "code",
      "source": [
        "stopword_freq = {}\n",
        "for word in tokens:\n",
        "    if word in stop_words:\n",
        "        if word in stopword_freq:\n",
        "            stopword_freq[word] += 1\n",
        "        else:\n",
        "            stopword_freq[word] = 1\n",
        "\n",
        "# To display\n",
        "plt.figure(figsize=(10, 6))\n",
        "plt.bar(stopword_freq.keys(), stopword_freq.values())\n",
        "plt.xticks(rotation=45)\n",
        "plt.xlabel('Stopwords')\n",
        "plt.ylabel('Frequency')\n",
        "plt.title('Distribution of Stopwords in the Text')\n",
        "plt.show()"
      ],
      "metadata": {
        "colab": {
          "base_uri": "https://localhost:8080/",
          "height": 445
        },
        "id": "EAdEMSRijjgv",
        "outputId": "07a546aa-15eb-49b2-9e10-5ac8a7c7926d"
      },
      "execution_count": 99,
      "outputs": [
        {
          "output_type": "display_data",
          "data": {
            "text/plain": [
              "<Figure size 1000x600 with 1 Axes>"
            ],
            "image/png": "[encoded data removed]"
          },
          "metadata": {}
        }
      ]
    },
    {
      "cell_type": "code",
      "source": [
        "stop_words = set(stopwords.words('english'))\n",
        "clean_text = [word for word in words if word.lower() not in stop_words]\n",
        "\n",
        "print(\"Stopwords Removal:\", clean_text)\n",
        "\n"
      ],
      "metadata": {
        "colab": {
          "base_uri": "https://localhost:8080/"
        },
        "id": "qCAnUrqnffVh",
        "outputId": "d992062e-133a-4732-e065-ae848eda98df"
      },
      "execution_count": 74,
      "outputs": [
        {
          "output_type": "stream",
          "name": "stdout",
          "text": [
            "Stopwords Removal: ['Transformer', 'exceptional', 'innovation', 'field', 'Deep', 'Learning', 'contributed', 'Ashish', 'Vaswani', 'et', 'al', '2017', 'Google', 'transformer', 'influential', 'Neural', 'Network', 'model', 'shown', 'outstanding', 'performance', 'various', 'NLP', 'tasks', 'including', 'Machine', 'Reading', 'Comprehension', 'Machine', 'translation', 'sentence', 'classification', 'Attention', 'mechanism', 'parallelization', 'prominent', 'features', 'transformers', 'Consequently', 'facilitate', 'longrange', 'dependencies', 'without', 'gradient', 'vanishing', 'gradient', 'explosion', 'problems', 'overcomes', 'drawbacks', 'existing', 'methods', 'RNN', 'LSTM', 'transformer', 'executed', 'encoderdecoder', 'mechanism', 'original', 'article', 'transformers', '“', 'Attention', 'Need', '”']\n",
            "Stopwords Removal: ['Transformer', 'exceptional', 'innovation', 'field', 'Deep', 'Learning', 'contributed', 'Ashish', 'Vaswani', 'et', 'al', '2017', 'Google', 'transformer', 'influential', 'Neural', 'Network', 'model', 'shown', 'outstanding', 'performance', 'various', 'NLP', 'tasks', 'including', 'Machine', 'Reading', 'Comprehension', 'Machine', 'translation', 'sentence', 'classification', 'Attention', 'mechanism', 'parallelization', 'prominent', 'features', 'transformers', 'Consequently', 'facilitate', 'longrange', 'dependencies', 'without', 'gradient', 'vanishing', 'gradient', 'explosion', 'problems', 'overcomes', 'drawbacks', 'existing', 'methods', 'RNN', 'LSTM', 'transformer', 'executed', 'encoderdecoder', 'mechanism', 'original', 'article', 'transformers', '“', 'Attention', 'Need', '”']\n"
          ]
        }
      ]
    },
    {
      "cell_type": "code",
      "source": [
        "print(len(filtered_words))"
      ],
      "metadata": {
        "colab": {
          "base_uri": "https://localhost:8080/"
        },
        "id": "zQhrah6tgxfi",
        "outputId": "598c4050-f04d-4bf5-860f-4d395b689e70"
      },
      "execution_count": 72,
      "outputs": [
        {
          "output_type": "stream",
          "name": "stdout",
          "text": [
            "65\n"
          ]
        }
      ]
    },
    {
      "cell_type": "code",
      "source": [
        "filtered_words = [word for word in clean_text if word not in string.punctuation]\n",
        "print(\"Punctuation Removal:\",clean_text )\n",
        "\n",
        "dist = FreqDist(clean_text)\n",
        "print(\"Frequency Distribution:\", fdist)\n",
        "fdist.plot(30, cumulative=False)\n",
        "\n"
      ],
      "metadata": {
        "colab": {
          "base_uri": "https://localhost:8080/",
          "height": 599
        },
        "id": "SCtzIerxffTS",
        "outputId": "f310103d-1f60-4b87-b9f1-775079e270a1"
      },
      "execution_count": 77,
      "outputs": [
        {
          "output_type": "stream",
          "name": "stdout",
          "text": [
            "Punctuation Removal: ['Transformer', 'exceptional', 'innovation', 'field', 'Deep', 'Learning', 'contributed', 'Ashish', 'Vaswani', 'et', 'al', '2017', 'Google', 'transformer', 'influential', 'Neural', 'Network', 'model', 'shown', 'outstanding', 'performance', 'various', 'NLP', 'tasks', 'including', 'Machine', 'Reading', 'Comprehension', 'Machine', 'translation', 'sentence', 'classification', 'Attention', 'mechanism', 'parallelization', 'prominent', 'features', 'transformers', 'Consequently', 'facilitate', 'longrange', 'dependencies', 'without', 'gradient', 'vanishing', 'gradient', 'explosion', 'problems', 'overcomes', 'drawbacks', 'existing', 'methods', 'RNN', 'LSTM', 'transformer', 'executed', 'encoderdecoder', 'mechanism', 'original', 'article', 'transformers', '“', 'Attention', 'Need', '”']\n",
            "Frequency Distribution: <FreqDist with 59 samples and 65 outcomes>\n"
          ]
        },
        {
          "output_type": "display_data",
          "data": {
            "text/plain": [
              "<Figure size 640x480 with 1 Axes>"
            ],
            "image/png": "[encoded data removed]"
          },
          "metadata": {}
        },
        {
          "output_type": "execute_result",
          "data": {
            "text/plain": [
              "<Axes: xlabel='Samples', ylabel='Counts'>"
            ]
          },
          "metadata": {},
          "execution_count": 77
        }
      ]
    },
    {
      "cell_type": "markdown",
      "source": [
        "e. stemming stemming is converting the words to its root form like running, runs to run. lemmatization also same but its gives the proper root or dictionary meaning to it"
      ],
      "metadata": {
        "id": "8MEuMglojJWp"
      }
    },
    {
      "cell_type": "code",
      "source": [
        "porter = PorterStemmer()\n",
        "snowball = SnowballStemmer('english')\n",
        "wordnet_lemmatizer = WordNetLemmatizer()\n",
        "\n",
        "stemmed_words_porter = [porter.stem(word) for word in clean_text]\n",
        "stemmed_words_snowball = [snowball.stem(word) for word in clean_text]\n",
        "lemmatized_words = [wordnet_lemmatizer.lemmatize(word) for word in clean_text]\n",
        "\n",
        "print(\"Porter Stemming:\", stemmed_words_porter)\n",
        "print(\"Snowball Stemming:\", stemmed_words_snowball)\n",
        "print(\"Lemmatization:\", lemmatized_words)\n",
        "\n"
      ],
      "metadata": {
        "colab": {
          "base_uri": "https://localhost:8080/"
        },
        "id": "QJAzDq1YffSI",
        "outputId": "adc32d35-31be-4b70-c1a5-0bc799f40ca3"
      },
      "execution_count": 78,
      "outputs": [
        {
          "output_type": "stream",
          "name": "stdout",
          "text": [
            "Porter Stemming: ['transform', 'except', 'innov', 'field', 'deep', 'learn', 'contribut', 'ashish', 'vaswani', 'et', 'al', '2017', 'googl', 'transform', 'influenti', 'neural', 'network', 'model', 'shown', 'outstand', 'perform', 'variou', 'nlp', 'task', 'includ', 'machin', 'read', 'comprehens', 'machin', 'translat', 'sentenc', 'classif', 'attent', 'mechan', 'parallel', 'promin', 'featur', 'transform', 'consequ', 'facilit', 'longrang', 'depend', 'without', 'gradient', 'vanish', 'gradient', 'explos', 'problem', 'overcom', 'drawback', 'exist', 'method', 'rnn', 'lstm', 'transform', 'execut', 'encoderdecod', 'mechan', 'origin', 'articl', 'transform', '“', 'attent', 'need', '”']\n",
            "Snowball Stemming: ['transform', 'except', 'innov', 'field', 'deep', 'learn', 'contribut', 'ashish', 'vaswani', 'et', 'al', '2017', 'googl', 'transform', 'influenti', 'neural', 'network', 'model', 'shown', 'outstand', 'perform', 'various', 'nlp', 'task', 'includ', 'machin', 'read', 'comprehens', 'machin', 'translat', 'sentenc', 'classif', 'attent', 'mechan', 'parallel', 'promin', 'featur', 'transform', 'consequ', 'facilit', 'longrang', 'depend', 'without', 'gradient', 'vanish', 'gradient', 'explos', 'problem', 'overcom', 'drawback', 'exist', 'method', 'rnn', 'lstm', 'transform', 'execut', 'encoderdecod', 'mechan', 'origin', 'articl', 'transform', '“', 'attent', 'need', '”']\n",
            "Lemmatization: ['Transformer', 'exceptional', 'innovation', 'field', 'Deep', 'Learning', 'contributed', 'Ashish', 'Vaswani', 'et', 'al', '2017', 'Google', 'transformer', 'influential', 'Neural', 'Network', 'model', 'shown', 'outstanding', 'performance', 'various', 'NLP', 'task', 'including', 'Machine', 'Reading', 'Comprehension', 'Machine', 'translation', 'sentence', 'classification', 'Attention', 'mechanism', 'parallelization', 'prominent', 'feature', 'transformer', 'Consequently', 'facilitate', 'longrange', 'dependency', 'without', 'gradient', 'vanishing', 'gradient', 'explosion', 'problem', 'overcomes', 'drawback', 'existing', 'method', 'RNN', 'LSTM', 'transformer', 'executed', 'encoderdecoder', 'mechanism', 'original', 'article', 'transformer', '“', 'Attention', 'Need', '”']\n"
          ]
        }
      ]
    },
    {
      "cell_type": "markdown",
      "source": [
        "pos: part of speech\n",
        "which is giving each word in a text a grammatical category, such as nouns, verbs, adjectives, and adverbs"
      ],
      "metadata": {
        "id": "7LLnbU3Lj9I4"
      }
    },
    {
      "cell_type": "code",
      "source": [
        "import spacy\n",
        "nlp = spacy.load(\"en_core_web_sm\")\n",
        "doc = nlp(text)\n",
        "pos_tags = [(token.text, token.pos_) for token in doc]\n",
        "ner_tags = [(ent.text, ent.label_) for ent in doc.ents]\n",
        "\n",
        "print(\"Part-of-Speech (PoS) tagging:\")\n",
        "for word, pos_tag in pos_tags:\n",
        "   print(f\"Word: {word}, PoS tag: {pos_tag}\")"
      ],
      "metadata": {
        "colab": {
          "base_uri": "https://localhost:8080/"
        },
        "id": "2pq-hkY7madI",
        "outputId": "457e30a9-c3e9-471e-df8a-7402da2ae21e"
      },
      "execution_count": 113,
      "outputs": [
        {
          "output_type": "stream",
          "name": "stdout",
          "text": [
            "Part-of-Speech (PoS) tagging:\n",
            "Word: \n",
            ", PoS tag: SPACE\n",
            "Word: Transformer, PoS tag: PROPN\n",
            "Word: is, PoS tag: AUX\n",
            "Word: an, PoS tag: DET\n",
            "Word: exceptional, PoS tag: ADJ\n",
            "Word: innovation, PoS tag: NOUN\n",
            "Word: in, PoS tag: ADP\n",
            "Word: the, PoS tag: DET\n",
            "Word: field, PoS tag: NOUN\n",
            "Word: of, PoS tag: ADP\n",
            "Word: Deep, PoS tag: PROPN\n",
            "Word: Learning, PoS tag: PROPN\n",
            "Word: ,, PoS tag: PUNCT\n",
            "Word: contributed, PoS tag: VERB\n",
            "Word: by, PoS tag: ADP\n",
            "Word: Ashish, PoS tag: PROPN\n",
            "Word: Vaswani, PoS tag: PROPN\n",
            "Word: et, PoS tag: PROPN\n",
            "Word: al, PoS tag: PROPN\n",
            "Word: ., PoS tag: PUNCT\n",
            "Word: (, PoS tag: PUNCT\n",
            "Word: 2017, PoS tag: NUM\n",
            "Word: ), PoS tag: PUNCT\n",
            "Word: ,, PoS tag: PUNCT\n",
            "Word: Google, PoS tag: PROPN\n",
            "Word: ., PoS tag: PUNCT\n",
            "Word: The, PoS tag: DET\n",
            "Word: transformer, PoS tag: NOUN\n",
            "Word: is, PoS tag: AUX\n",
            "Word: the, PoS tag: DET\n",
            "Word: most, PoS tag: ADV\n",
            "Word: influential, PoS tag: ADJ\n",
            "Word: Neural, PoS tag: PROPN\n",
            "Word: Network, PoS tag: PROPN\n",
            "Word: model, PoS tag: NOUN\n",
            "Word: that, PoS tag: PRON\n",
            "Word: has, PoS tag: AUX\n",
            "Word: shown, PoS tag: VERB\n",
            "Word: outstanding, PoS tag: ADJ\n",
            "Word: performance, PoS tag: NOUN\n",
            "Word: on, PoS tag: ADP\n",
            "Word: various, PoS tag: ADJ\n",
            "Word: NLP, PoS tag: PROPN\n",
            "Word: tasks, PoS tag: NOUN\n",
            "Word: including, PoS tag: VERB\n",
            "Word: Machine, PoS tag: PROPN\n",
            "Word: Reading, PoS tag: PROPN\n",
            "Word: Comprehension, PoS tag: PROPN\n",
            "Word: ,, PoS tag: PUNCT\n",
            "Word: Machine, PoS tag: NOUN\n",
            "Word: translation, PoS tag: NOUN\n",
            "Word: and, PoS tag: CCONJ\n",
            "Word: sentence, PoS tag: NOUN\n",
            "Word: classification, PoS tag: NOUN\n",
            "Word: ., PoS tag: PUNCT\n",
            "Word: Attention, PoS tag: NOUN\n",
            "Word: mechanism, PoS tag: NOUN\n",
            "Word: and, PoS tag: CCONJ\n",
            "Word: parallelization, PoS tag: NOUN\n",
            "Word: are, PoS tag: AUX\n",
            "Word: the, PoS tag: DET\n",
            "Word: prominent, PoS tag: ADJ\n",
            "Word: features, PoS tag: NOUN\n",
            "Word: in, PoS tag: ADP\n",
            "Word: the, PoS tag: DET\n",
            "Word: transformers, PoS tag: NOUN\n",
            "Word: ., PoS tag: PUNCT\n",
            "Word: Consequently, PoS tag: ADV\n",
            "Word: ,, PoS tag: PUNCT\n",
            "Word: it, PoS tag: PRON\n",
            "Word: can, PoS tag: AUX\n",
            "Word: facilitate, PoS tag: VERB\n",
            "Word: long, PoS tag: ADJ\n",
            "Word: -, PoS tag: PUNCT\n",
            "Word: range, PoS tag: NOUN\n",
            "Word: dependencies, PoS tag: NOUN\n",
            "Word: without, PoS tag: ADP\n",
            "Word: any, PoS tag: DET\n",
            "Word: gradient, PoS tag: ADJ\n",
            "Word: vanishing, PoS tag: VERB\n",
            "Word: or, PoS tag: CCONJ\n",
            "Word: gradient, PoS tag: ADJ\n",
            "Word: explosion, PoS tag: NOUN\n",
            "Word: problems, PoS tag: NOUN\n",
            "Word: and, PoS tag: CCONJ\n",
            "Word: it, PoS tag: PRON\n",
            "Word: overcomes, PoS tag: VERB\n",
            "Word: the, PoS tag: DET\n",
            "Word: drawbacks, PoS tag: NOUN\n",
            "Word: of, PoS tag: ADP\n",
            "Word: the, PoS tag: DET\n",
            "Word: existing, PoS tag: VERB\n",
            "Word: methods, PoS tag: NOUN\n",
            "Word: such, PoS tag: ADJ\n",
            "Word: as, PoS tag: ADP\n",
            "Word: RNN, PoS tag: PROPN\n",
            "Word: and, PoS tag: CCONJ\n",
            "Word: LSTM, PoS tag: PROPN\n",
            "Word: ., PoS tag: PUNCT\n",
            "Word: The, PoS tag: DET\n",
            "Word: transformer, PoS tag: NOUN\n",
            "Word: is, PoS tag: AUX\n",
            "Word: executed, PoS tag: VERB\n",
            "Word: with, PoS tag: ADP\n",
            "Word: an, PoS tag: DET\n",
            "Word: encoder, PoS tag: NOUN\n",
            "Word: -, PoS tag: PUNCT\n",
            "Word: decoder, PoS tag: NOUN\n",
            "Word: mechanism, PoS tag: NOUN\n",
            "Word: and, PoS tag: CCONJ\n",
            "Word: the, PoS tag: DET\n",
            "Word: original, PoS tag: ADJ\n",
            "Word: article, PoS tag: NOUN\n",
            "Word: of, PoS tag: ADP\n",
            "Word: transformers, PoS tag: NOUN\n",
            "Word: #, PoS tag: NOUN\n",
            "Word: “, PoS tag: PUNCT\n",
            "Word: Attention, PoS tag: NOUN\n",
            "Word: All, PoS tag: PRON\n",
            "Word: You, PoS tag: PRON\n",
            "Word: Need, PoS tag: VERB\n",
            "Word: ”, PoS tag: PUNCT\n",
            "Word: ., PoS tag: PUNCT\n",
            "Word: \n",
            ", PoS tag: SPACE\n"
          ]
        }
      ]
    },
    {
      "cell_type": "markdown",
      "source": [
        "NER: NER is named entity recognition it is used to identify names, places, person names like that"
      ],
      "metadata": {
        "id": "3fqeGWt7lVTv"
      }
    },
    {
      "cell_type": "code",
      "source": [
        "print(\"\\nNamed Entity Recognition (NER):\")\n",
        "for entity, label in ner_tags:\n",
        "   print(f\"Entity: {entity}, Label: {label}\")"
      ],
      "metadata": {
        "colab": {
          "base_uri": "https://localhost:8080/"
        },
        "id": "8N_0KG5qm4c4",
        "outputId": "4a78ec81-9502-4aed-98c1-377ae6f3c5a9"
      },
      "execution_count": 112,
      "outputs": [
        {
          "output_type": "stream",
          "name": "stdout",
          "text": [
            "\n",
            "Named Entity Recognition (NER):\n",
            "Entity: Transformer, Label: ORG\n",
            "Entity: Deep Learning, Label: ORG\n",
            "Entity: Ashish Vaswani, Label: PERSON\n",
            "Entity: 2017, Label: DATE\n",
            "Entity: Google, Label: ORG\n",
            "Entity: Neural Network, Label: ORG\n",
            "Entity: NLP, Label: ORG\n",
            "Entity: Machine Reading Comprehension, Label: ORG\n",
            "Entity: RNN, Label: ORG\n"
          ]
        }
      ]
    },
    {
      "cell_type": "code",
      "source": [
        "import nltk\n",
        "nltk.download('words')\n",
        "ner_tags = ne_chunk(pos_tags)\n",
        "print(\"Named Entity Recognition:\", ner_tags)"
      ],
      "metadata": {
        "colab": {
          "base_uri": "https://localhost:8080/"
        },
        "id": "eCYfldFmlLJP",
        "outputId": "cb5704f0-fa91-4eaf-c578-947b779df749"
      },
      "execution_count": 110,
      "outputs": [
        {
          "output_type": "stream",
          "name": "stdout",
          "text": [
            "Named Entity Recognition: (S\n",
            "  (GPE Transformer/NNP)\n",
            "  exceptional/JJ\n",
            "  innovation/NN\n",
            "  field/NN\n",
            "  (PERSON Deep/NNP Learning/NNP)\n",
            "  contributed/VBD\n",
            "  (PERSON Ashish/NNP Vaswani/NNP)\n",
            "  et/FW\n",
            "  al/NN\n",
            "  2017/CD\n",
            "  Google/NNP\n",
            "  transformer/NN\n",
            "  influential/JJ\n",
            "  (ORGANIZATION Neural/NNP Network/NNP)\n",
            "  model/FW\n",
            "  shown/VBN\n",
            "  outstanding/JJ\n",
            "  performance/NN\n",
            "  various/JJ\n",
            "  (ORGANIZATION NLP/NNP)\n",
            "  tasks/NNS\n",
            "  including/VBG\n",
            "  (PERSON Machine/NNP Reading/NNP)\n",
            "  Comprehension/NNP\n",
            "  Machine/NNP\n",
            "  translation/NN\n",
            "  sentence/NN\n",
            "  classification/NN\n",
            "  Attention/NNP\n",
            "  mechanism/NN\n",
            "  parallelization/NN\n",
            "  prominent/NN\n",
            "  features/VBZ\n",
            "  transformers/NNS\n",
            "  Consequently/RB\n",
            "  facilitate/VBP\n",
            "  longrange/NN\n",
            "  dependencies/NNS\n",
            "  without/IN\n",
            "  gradient/NN\n",
            "  vanishing/VBG\n",
            "  gradient/JJ\n",
            "  explosion/NN\n",
            "  problems/NNS\n",
            "  overcomes/VBZ\n",
            "  drawbacks/NNS\n",
            "  existing/VBG\n",
            "  methods/NNS\n",
            "  (ORGANIZATION RNN/NNP)\n",
            "  LSTM/NNP\n",
            "  transformer/NN\n",
            "  executed/VBD\n",
            "  encoderdecoder/JJR\n",
            "  mechanism/NN\n",
            "  original/JJ\n",
            "  article/NN\n",
            "  transformers/NNS\n",
            "  “/VBP\n",
            "  (PERSON Attention/NNP Need/NNP)\n",
            "  ”/NNP)\n"
          ]
        },
        {
          "output_type": "stream",
          "name": "stderr",
          "text": [
            "[nltk_data] Downloading package words to /root/nltk_data...\n",
            "[nltk_data]   Unzipping corpora/words.zip.\n"
          ]
        }
      ]
    },
    {
      "cell_type": "markdown",
      "source": [
        "question2:::"
      ],
      "metadata": {
        "id": "vIa5INiThe43"
      }
    },
    {
      "cell_type": "code",
      "source": [
        "from gensim.models import Word2Vec\n",
        "from sklearn.decomposition import PCA\n",
        "import matplotlib.pyplot as plt\n"
      ],
      "metadata": {
        "id": "jzjhI8TXffOQ"
      },
      "execution_count": 100,
      "outputs": []
    },
    {
      "cell_type": "code",
      "source": [
        "data = \"Mickey Mouse, a cheerful and optimistic mouse clad in red shorts and yellow shoes, is the iconic mascot of The Walt Disney Company. Debuting in 1928, this spunky character has charmed audiences for generations with his adventures and can-do attitude.\"\n",
        "\n"
      ],
      "metadata": {
        "id": "LZZxilJthmm1"
      },
      "execution_count": 101,
      "outputs": []
    },
    {
      "cell_type": "markdown",
      "source": [
        "tokenization"
      ],
      "metadata": {
        "id": "a6w-TWTShs-Q"
      }
    },
    {
      "cell_type": "code",
      "source": [
        "words = data.split()"
      ],
      "metadata": {
        "id": "HyCc_ZEmho0y"
      },
      "execution_count": 102,
      "outputs": []
    },
    {
      "cell_type": "code",
      "source": [
        "word_tokenize(data)"
      ],
      "metadata": {
        "colab": {
          "base_uri": "https://localhost:8080/"
        },
        "id": "Wf9b1LUeh1Fw",
        "outputId": "40c3b97f-0634-4db7-9569-8475e75ee4fa"
      },
      "execution_count": 103,
      "outputs": [
        {
          "output_type": "execute_result",
          "data": {
            "text/plain": [
              "['Mickey',\n",
              " 'Mouse',\n",
              " ',',\n",
              " 'a',\n",
              " 'cheerful',\n",
              " 'and',\n",
              " 'optimistic',\n",
              " 'mouse',\n",
              " 'clad',\n",
              " 'in',\n",
              " 'red',\n",
              " 'shorts',\n",
              " 'and',\n",
              " 'yellow',\n",
              " 'shoes',\n",
              " ',',\n",
              " 'is',\n",
              " 'the',\n",
              " 'iconic',\n",
              " 'mascot',\n",
              " 'of',\n",
              " 'The',\n",
              " 'Walt',\n",
              " 'Disney',\n",
              " 'Company',\n",
              " '.',\n",
              " 'Debuting',\n",
              " 'in',\n",
              " '1928',\n",
              " ',',\n",
              " 'this',\n",
              " 'spunky',\n",
              " 'character',\n",
              " 'has',\n",
              " 'charmed',\n",
              " 'audiences',\n",
              " 'for',\n",
              " 'generations',\n",
              " 'with',\n",
              " 'his',\n",
              " 'adventures',\n",
              " 'and',\n",
              " 'can-do',\n",
              " 'attitude',\n",
              " '.']"
            ]
          },
          "metadata": {},
          "execution_count": 103
        }
      ]
    },
    {
      "cell_type": "markdown",
      "source": [
        "word2vec:\n",
        "word2vec is a embedding model for converting words to vectors that is in numbers or lower dimensional form."
      ],
      "metadata": {
        "id": "MyMvXvkph6Zh"
      }
    },
    {
      "cell_type": "code",
      "source": [
        "model = Word2Vec([words], min_count=1)\n"
      ],
      "metadata": {
        "id": "4CmqER9Ghz83"
      },
      "execution_count": 105,
      "outputs": []
    },
    {
      "cell_type": "code",
      "source": [
        "X = model.wv.vectors"
      ],
      "metadata": {
        "id": "xuyr3AN4kcrJ"
      },
      "execution_count": 106,
      "outputs": []
    },
    {
      "cell_type": "markdown",
      "source": [
        "pca is applied to reduce dimension you can even aplly lda but lda reduce to 1D"
      ],
      "metadata": {
        "id": "X_LeFymgkyMz"
      }
    },
    {
      "cell_type": "code",
      "source": [
        "\n",
        "pca = PCA(n_components=2)\n",
        "result = pca.fit_transform(X)\n",
        "plt.figure(figsize=(10, 8))\n",
        "plt.scatter(result[:, 0], result[:, 1])\n",
        "\n",
        "# Annotate points with words\n",
        "for i, word in enumerate(words):\n",
        "    plt.annotate(word, xy=(result[i, 0], result[i, 1]))\n",
        "\n",
        "plt.title('Word2Vec Visualization')\n",
        "plt.xlabel('Principal Component 1')\n",
        "plt.ylabel('Principal Component 2')\n",
        "plt.show()\n"
      ],
      "metadata": {
        "colab": {
          "base_uri": "https://localhost:8080/",
          "height": 725
        },
        "id": "WyJ5jeA6kfat",
        "outputId": "4bb17ece-a557-4c8c-cb27-88a90e7e2b7b"
      },
      "execution_count": 107,
      "outputs": [
        {
          "output_type": "error",
          "ename": "IndexError",
          "evalue": "index 37 is out of bounds for axis 0 with size 37",
          "traceback": [
            "\u001b[0;31m---------------------------------------------------------------------------\u001b[0m",
            "\u001b[0;31mIndexError\u001b[0m                                Traceback (most recent call last)",
            "\u001b[0;32m<ipython-input-107-061a8ff9053e>\u001b[0m in \u001b[0;36m<cell line: 10>\u001b[0;34m()\u001b[0m\n\u001b[1;32m      9\u001b[0m \u001b[0;31m# Annotate points with words\u001b[0m\u001b[0;34m\u001b[0m\u001b[0;34m\u001b[0m\u001b[0m\n\u001b[1;32m     10\u001b[0m \u001b[0;32mfor\u001b[0m \u001b[0mi\u001b[0m\u001b[0;34m,\u001b[0m \u001b[0mword\u001b[0m \u001b[0;32min\u001b[0m \u001b[0menumerate\u001b[0m\u001b[0;34m(\u001b[0m\u001b[0mwords\u001b[0m\u001b[0;34m)\u001b[0m\u001b[0;34m:\u001b[0m\u001b[0;34m\u001b[0m\u001b[0;34m\u001b[0m\u001b[0m\n\u001b[0;32m---> 11\u001b[0;31m     \u001b[0mplt\u001b[0m\u001b[0;34m.\u001b[0m\u001b[0mannotate\u001b[0m\u001b[0;34m(\u001b[0m\u001b[0mword\u001b[0m\u001b[0;34m,\u001b[0m \u001b[0mxy\u001b[0m\u001b[0;34m=\u001b[0m\u001b[0;34m(\u001b[0m\u001b[0mresult\u001b[0m\u001b[0;34m[\u001b[0m\u001b[0mi\u001b[0m\u001b[0;34m,\u001b[0m \u001b[0;36m0\u001b[0m\u001b[0;34m]\u001b[0m\u001b[0;34m,\u001b[0m \u001b[0mresult\u001b[0m\u001b[0;34m[\u001b[0m\u001b[0mi\u001b[0m\u001b[0;34m,\u001b[0m \u001b[0;36m1\u001b[0m\u001b[0;34m]\u001b[0m\u001b[0;34m)\u001b[0m\u001b[0;34m)\u001b[0m\u001b[0;34m\u001b[0m\u001b[0;34m\u001b[0m\u001b[0m\n\u001b[0m\u001b[1;32m     12\u001b[0m \u001b[0;34m\u001b[0m\u001b[0m\n\u001b[1;32m     13\u001b[0m \u001b[0mplt\u001b[0m\u001b[0;34m.\u001b[0m\u001b[0mtitle\u001b[0m\u001b[0;34m(\u001b[0m\u001b[0;34m'Word2Vec Visualization'\u001b[0m\u001b[0;34m)\u001b[0m\u001b[0;34m\u001b[0m\u001b[0;34m\u001b[0m\u001b[0m\n",
            "\u001b[0;31mIndexError\u001b[0m: index 37 is out of bounds for axis 0 with size 37"
          ]
        },
        {
          "output_type": "display_data",
          "data": {
            "text/plain": [
              "<Figure size 1000x800 with 1 Axes>"
            ],
            "image/png": "[encoded data removed]"
          },
          "metadata": {}
        }
      ]
    },
    {
      "cell_type": "markdown",
      "source": [
        "working and flow of code is it convert words to vectors based on the cbow and skipgram where words is converted to vectors"
      ],
      "metadata": {
        "id": "eH2aiRS4nUvO"
      }
    },
    {
      "cell_type": "code",
      "source": [],
      "metadata": {
        "id": "z6SZg5ObnTLY"
      },
      "execution_count": null,
      "outputs": []
    }
  ]
}