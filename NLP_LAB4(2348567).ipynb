{
  "nbformat": 4,
  "nbformat_minor": 0,
  "metadata": {
    "colab": {
      "provenance": []
    },
    "kernelspec": {
      "name": "python3",
      "display_name": "Python 3"
    },
    "language_info": {
      "name": "python"
    }
  },
  "cells": [
    {
      "cell_type": "code",
      "execution_count": 2,
      "metadata": {
        "colab": {
          "base_uri": "https://localhost:8080/"
        },
        "id": "ZkjOPe6rQtqM",
        "outputId": "bf82453a-5a89-4284-fe33-6f2ccb0a166a"
      },
      "outputs": [
        {
          "output_type": "stream",
          "name": "stderr",
          "text": [
            "[nltk_data] Downloading package wordnet to /root/nltk_data...\n"
          ]
        },
        {
          "output_type": "execute_result",
          "data": {
            "text/plain": [
              "True"
            ]
          },
          "metadata": {},
          "execution_count": 2
        }
      ],
      "source": [
        "import nltk\n",
        "nltk.download('wordnet')"
      ]
    },
    {
      "cell_type": "markdown",
      "source": [
        "a)Find the 3rd meaning of the word in the list."
      ],
      "metadata": {
        "id": "w87Nyb7ATMdv"
      }
    },
    {
      "cell_type": "code",
      "source": [
        "from nltk.corpus import wordnet\n",
        "syn = wordnet.synsets('bear')[3]\n",
        "\n",
        "print (\"Synset name :  \", syn.name())\n",
        "\n",
        "# Defining the word\n",
        "print (\"\\nSynset meaning : \", syn.definition())\n",
        "\n",
        "# list of phrases that use the word in context\n",
        "print (\"\\nSynset example : \", syn.examples())"
      ],
      "metadata": {
        "colab": {
          "base_uri": "https://localhost:8080/"
        },
        "id": "DFoWir2gRV6m",
        "outputId": "b8466d0a-d603-42ed-e16f-25e3cd05e0bd"
      },
      "execution_count": 9,
      "outputs": [
        {
          "output_type": "stream",
          "name": "stdout",
          "text": [
            "Synset name :   give_birth.v.01\n",
            "\n",
            "Synset meaning :  cause to be born\n",
            "\n",
            "Synset example :  ['My wife had twins yesterday!']\n"
          ]
        }
      ]
    },
    {
      "cell_type": "code",
      "source": [
        "from nltk.corpus import wordnet\n",
        "syn = wordnet.synsets('angry')[2]\n",
        "\n",
        "print (\"Synset name :  \", syn.name())\n",
        "\n",
        "# Defining the word\n",
        "print (\"\\nSynset meaning : \", syn.definition())\n",
        "\n",
        "# list of phrases that use the word in context\n",
        "print (\"\\nSynset example : \", syn.examples())"
      ],
      "metadata": {
        "colab": {
          "base_uri": "https://localhost:8080/"
        },
        "id": "27L62QjASVoD",
        "outputId": "2072ce81-6662-4326-82ce-5303c545efcc"
      },
      "execution_count": 11,
      "outputs": [
        {
          "output_type": "stream",
          "name": "stdout",
          "text": [
            "Synset name :   angry.s.03\n",
            "\n",
            "Synset meaning :  severely inflamed and painful\n",
            "\n",
            "Synset example :  ['an angry sore']\n"
          ]
        }
      ]
    },
    {
      "cell_type": "code",
      "source": [
        "from nltk.corpus import wordnet\n",
        "syn = wordnet.synsets('cricket')[0]\n",
        "\n",
        "print (\"Synset name :  \", syn.name())\n",
        "\n",
        "# Defining the word\n",
        "print (\"\\nSynset meaning : \", syn.definition())\n",
        "\n",
        "# list of phrases that use the word in context\n",
        "print (\"\\nSynset example : \", syn.examples())"
      ],
      "metadata": {
        "colab": {
          "base_uri": "https://localhost:8080/"
        },
        "id": "zarTjLVJTpW_",
        "outputId": "54d332a7-2799-46e9-fc6d-39c52c999f56"
      },
      "execution_count": 17,
      "outputs": [
        {
          "output_type": "stream",
          "name": "stdout",
          "text": [
            "Synset name :   cricket.n.01\n",
            "\n",
            "Synset meaning :  leaping insect; male makes chirping noises by rubbing the forewings together\n",
            "\n",
            "Synset example :  []\n"
          ]
        }
      ]
    },
    {
      "cell_type": "code",
      "source": [
        "from nltk.corpus import wordnet\n",
        "syn = wordnet.synsets('bank')[3]\n",
        "\n",
        "print (\"Synset name :  \", syn.name())\n",
        "\n",
        "# Defining the word\n",
        "print (\"\\nSynset meaning : \", syn.definition())\n",
        "\n",
        "# list of phrases that use the word in context\n",
        "print (\"\\nSynset example : \", syn.examples())"
      ],
      "metadata": {
        "colab": {
          "base_uri": "https://localhost:8080/"
        },
        "id": "mbCyERKQTz5d",
        "outputId": "3742c4e6-e81e-4967-d5c5-35b9078a3646"
      },
      "execution_count": 18,
      "outputs": [
        {
          "output_type": "stream",
          "name": "stdout",
          "text": [
            "Synset name :   bank.n.04\n",
            "\n",
            "Synset meaning :  an arrangement of similar objects in a row or in tiers\n",
            "\n",
            "Synset example :  ['he operated a bank of switches']\n"
          ]
        }
      ]
    },
    {
      "cell_type": "code",
      "source": [
        "from nltk.corpus import wordnet\n",
        "syn = wordnet.synsets('set')[0]\n",
        "\n",
        "print (\"Synset name :  \", syn.name())\n",
        "\n",
        "# Defining the word\n",
        "print (\"\\nSynset meaning : \", syn.definition())\n",
        "\n",
        "# list of phrases that use the word in context\n",
        "print (\"\\nSynset example : \", syn.examples())"
      ],
      "metadata": {
        "colab": {
          "base_uri": "https://localhost:8080/"
        },
        "id": "JeWA3syiT_Os",
        "outputId": "4c372bb3-32ab-43d4-a00d-22b88febd6b3"
      },
      "execution_count": 4,
      "outputs": [
        {
          "output_type": "stream",
          "name": "stdout",
          "text": [
            "Synset name :   set.n.01\n",
            "\n",
            "Synset meaning :  a group of things of the same kind that belong together and are so used\n",
            "\n",
            "Synset example :  ['a set of books', 'a set of golf clubs', 'a set of teeth']\n"
          ]
        }
      ]
    },
    {
      "cell_type": "code",
      "source": [
        "def extract_nouns(word):\n",
        "    nouns = []\n",
        "    for syn in wordnet.synsets(word):\n",
        "        for hypernym in syn.hypernyms():\n",
        "            for lemma in hypernym.lemmas():\n",
        "                nouns.append(lemma.name())\n",
        "    return list(set(nouns))  # Remove duplicates using set\n",
        "\n",
        "def extract_verbs(word):\n",
        "    verbs = []\n",
        "    for syn in wordnet.synsets(word):\n",
        "        for lemma in syn.lemmas():\n",
        "            if lemma.synset().pos() == 'v':\n",
        "                verbs.append(lemma.name())\n",
        "    return list(set(verbs))\n",
        "\n",
        "# Take input from the user for the word\n",
        "user_word = input(\"Enter a word: \")\n",
        "\n",
        "nouns = extract_nouns(user_word)\n",
        "verbs = extract_verbs(user_word)\n",
        "print(f\"Nouns related to '{user_word}': {nouns}\")\n",
        "print(f\"Verbs related to '{user_word}': {verbs}\")\n"
      ],
      "metadata": {
        "colab": {
          "base_uri": "https://localhost:8080/"
        },
        "id": "mwxkvUxzbPBy",
        "outputId": "f2a755e0-83ab-47dc-a8d2-784d712cc61a"
      },
      "execution_count": 40,
      "outputs": [
        {
          "output_type": "stream",
          "name": "stdout",
          "text": [
            "Enter a word: cricket\n",
            "Nouns related to 'cricket': ['orthopterous_insect', 'orthopteron', 'orthopteran', 'play', 'field_game']\n",
            "Verbs related to 'cricket': ['cricket']\n"
          ]
        }
      ]
    },
    {
      "cell_type": "code",
      "source": [
        "def extract_nouns(word):\n",
        "    nouns = []\n",
        "    for syn in wordnet.synsets(word):\n",
        "        for hypernym in syn.hypernyms():\n",
        "            for lemma in hypernym.lemmas():\n",
        "                nouns.append(lemma.name())\n",
        "    return list(set(nouns))  # Remove duplicates using set\n",
        "\n",
        "def extract_verbs(word):\n",
        "    verbs = []\n",
        "    for syn in wordnet.synsets(word):\n",
        "        for lemma in syn.lemmas():\n",
        "            if lemma.synset().pos() == 'v':\n",
        "                verbs.append(lemma.name())\n",
        "    return list(set(verbs))\n",
        "\n",
        "user_word = input(\"Enter a word: \")\n",
        "\n",
        "nouns = extract_nouns(user_word)\n",
        "verbs = extract_verbs(user_word)\n",
        "\n",
        "# Print the results\n",
        "print(f\"Nouns related to '{user_word}': {nouns}\")\n",
        "print(f\"Verbs related to '{user_word}': {verbs}\")"
      ],
      "metadata": {
        "colab": {
          "base_uri": "https://localhost:8080/"
        },
        "id": "FwJBKtq-bfNJ",
        "outputId": "90043cbe-41c9-4cee-fe65-a883451c87d5"
      },
      "execution_count": 41,
      "outputs": [
        {
          "output_type": "stream",
          "name": "stdout",
          "text": [
            "Enter a word: set\n",
            "Nouns related to 'set': ['present', 'attack', 'neaten', 'bury', 'equip', 'natural_action', 'fit_out', 'play', 'descent', 'prepare', 'accumulation', 'aggregation', 'alter', 'guess', 'gear_up', 'physical_exercise', 'set_up', 'initiate', 'come_down', 'choose', 'descend', 'compose', 'playing_period', 'adjust', 'sink', 'place', 'move', 'electronic_equipment', 'natural_process', 'pose', 'abstraction', 'approximate', 'hone', 'locating', 'location', 'solidify', 'placement', 'ready', 'arrange', 'state_of_mind', 'make', 'assault', 'displace', 'change', 'fall', 'stage', 'print', 'go_down', 'assail', 'establish', 'procreate', 'fix', 'represent', 'gauge', 'lay_down', 'inclination', 'estimate', 'action', 'set', 'period_of_play', 'judge', 'exercising', 'position', 'fit', 'disposition', 'pick_out', 'collection', 'put', 'tendency', 'take', 'modify', 'emplacement', 'impress', 'reproduce', 'set_on', 'groom', 'representation', 'positioning', 'physical_exertion', 'assemblage', 'workout', 'select', 'outfit', 'lay', 'social_group', 'activity', 'correct', 'cognitive_state', 'exercise', 'start', 'originate', 'multiply', 'abstract_entity', 'write']\n",
            "Verbs related to 'set': ['go_under', 'adjust', 'specify', 'coif', 'go_down', 'limit', 'do', 'place', 'plant', 'typeset', 'coiffe', 'fix', 'rig', 'pose', 'define', 'jell', 'localize', 'dress', 'congeal', 'prepare', 'countersink', 'set', 'lay', 'position', 'mark', 'gear_up', 'correct', 'ready', 'arrange', 'determine', 'sic', 'coiffure', 'set_up', 'lay_out', 'fructify', 'localise', 'put']\n"
          ]
        }
      ]
    },
    {
      "cell_type": "code",
      "source": [
        "def extract_nouns(word):\n",
        "    nouns = []\n",
        "    for syn in wordnet.synsets(word):\n",
        "        for hypernym in syn.hypernyms():\n",
        "            for lemma in hypernym.lemmas():\n",
        "                nouns.append(lemma.name())\n",
        "    return list(set(nouns))  # Remove duplicates using set\n",
        "\n",
        "def extract_verbs(word):\n",
        "    verbs = []\n",
        "    for syn in wordnet.synsets(word):\n",
        "        for lemma in syn.lemmas():\n",
        "            if lemma.synset().pos() == 'v':\n",
        "                verbs.append(lemma.name())\n",
        "    return list(set(verbs))\n",
        "\n",
        "# Take input from the user for the word\n",
        "user_word = input(\"Enter a word: \")\n",
        "\n",
        "nouns = extract_nouns(user_word)\n",
        "verbs = extract_verbs(user_word)\n",
        "\n",
        "print(f\"Nouns related to '{user_word}': {nouns}\")\n",
        "print(f\"Verbs related to '{user_word}': {verbs}\")"
      ],
      "metadata": {
        "colab": {
          "base_uri": "https://localhost:8080/"
        },
        "id": "p3a2CmoecQo7",
        "outputId": "164035e0-e78f-4e77-9892-911b54021911"
      },
      "execution_count": 42,
      "outputs": [
        {
          "output_type": "stream",
          "name": "stdout",
          "text": [
            "Enter a word: dust\n",
            "Nouns related to 'dust': ['stuff', 'trash', 'make_clean', 'cover', 'material', 'rubbish', 'particulate', 'smutch', 'clean', 'blur', 'scrap', 'discharge', 'smudge', 'smear', 'particulate_matter']\n",
            "Verbs related to 'dust': ['disperse', 'dot', 'dust', 'sprinkle', 'scatter']\n"
          ]
        }
      ]
    },
    {
      "cell_type": "code",
      "source": [
        "def extract_nouns(word):\n",
        "    nouns = []\n",
        "    for syn in wordnet.synsets(word):\n",
        "        for hypernym in syn.hypernyms():\n",
        "            for lemma in hypernym.lemmas():\n",
        "                nouns.append(lemma.name())\n",
        "    return list(set(nouns))  # Remove duplicates using set\n",
        "\n",
        "def extract_verbs(word):\n",
        "    verbs = []\n",
        "    for syn in wordnet.synsets(word):\n",
        "        for lemma in syn.lemmas():\n",
        "            if lemma.synset().pos() == 'v':\n",
        "                verbs.append(lemma.name())\n",
        "    return list(set(verbs))\n",
        "# Take input from the user for the word\n",
        "user_word = input(\"Enter a word: \")\n",
        "\n",
        "\n",
        "nouns = extract_nouns(user_word)\n",
        "verbs = extract_verbs(user_word)\n",
        "print(f\"Nouns related to '{user_word}': {nouns}\")\n",
        "print(f\"Verbs related to '{user_word}': {verbs}\")"
      ],
      "metadata": {
        "colab": {
          "base_uri": "https://localhost:8080/"
        },
        "id": "TIpzE1dYczgc",
        "outputId": "18002939-e33e-4bae-825b-86e3b047c698"
      },
      "execution_count": 44,
      "outputs": [
        {
          "output_type": "stream",
          "name": "stdout",
          "text": [
            "Enter a word: even\n",
            "Nouns related to 'even': ['change_surface', 'change', 'regularise', 'regularize', 'day', 'daylight', 'modify', 'alter', 'daytime']\n",
            "Verbs related to 'even': ['flush', 'level', 'even', 'even_out']\n"
          ]
        }
      ]
    },
    {
      "cell_type": "code",
      "source": [
        "def extract_nouns(word):\n",
        "    nouns = []\n",
        "    for syn in wordnet.synsets(word):\n",
        "        for hypernym in syn.hypernyms():\n",
        "            for lemma in hypernym.lemmas():\n",
        "                nouns.append(lemma.name())\n",
        "    return list(set(nouns))  # Remove duplicates using set\n",
        "\n",
        "def extract_verbs(word):\n",
        "    verbs = []\n",
        "    for syn in wordnet.synsets(word):\n",
        "        for lemma in syn.lemmas():\n",
        "            if lemma.synset().pos() == 'v':\n",
        "                verbs.append(lemma.name())\n",
        "    return list(set(verbs))  # Remove duplicates using set\n",
        "\n",
        "# Take input from the user for the word\n",
        "user_word = input(\"Enter a word: \")\n",
        "nouns = extract_nouns(user_word)\n",
        "verbs = extract_verbs(user_word)\n",
        "\n",
        "print(f\"Nouns related to '{user_word}': {nouns}\")\n",
        "print(f\"Verbs related to '{user_word}': {verbs}\")"
      ],
      "metadata": {
        "colab": {
          "base_uri": "https://localhost:8080/"
        },
        "id": "vnTnz7rMc2l1",
        "outputId": "7498a2ac-1876-4207-c796-2484821b2b19"
      },
      "execution_count": 45,
      "outputs": [
        {
          "output_type": "stream",
          "name": "stdout",
          "text": [
            "Enter a word: command\n",
            "Nouns related to 'command': ['military_group', 'exact', 'potency', 'code', 'dominate', 'enjoin', 'say-so', 'authorization', 'master', 'availableness', 'order', 'military_force', 'lie', 'military_unit', 'say', 'computer_code', 'skillfulness', 'dominance', 'accessibility', 'demand', 'force', 'speech_act', 'availability', 'position', 'status', 'handiness', 'authority', 'tell', 'authorisation']\n",
            "Verbs related to 'command': ['command', 'require', 'overtop', 'dominate', 'overlook', 'control']\n"
          ]
        }
      ]
    },
    {
      "cell_type": "code",
      "source": [
        "\n",
        "def extract_words(word, pos):\n",
        "    words = []\n",
        "    for syn in wordnet.synsets(word):\n",
        "        for lemma in syn.lemmas():\n",
        "            if lemma.synset().pos() == pos:\n",
        "                words.append(lemma.name())\n",
        "    return list(set(words))\n",
        "\n",
        "user_word = input(\"Enter a word: \")\n",
        "\n",
        "nouns = extract_words(user_word, 'n')\n",
        "\n",
        "verbs = extract_words(user_word, 'v')\n",
        "\n",
        "adjectives = extract_words(user_word, 'a')\n",
        "\n",
        "\n",
        "adverbs = extract_words(user_word, 'r')\n",
        "\n",
        "# Print the results\n",
        "print(f\"Nouns related to '{user_word}': {nouns}\")\n",
        "print(f\"Verbs related to '{user_word}': {verbs}\")\n",
        "print(f\"Adjectives related to '{user_word}': {adjectives}\")\n",
        "print(f\"Adverbs related to '{user_word}': {adverbs}\")\n"
      ],
      "metadata": {
        "colab": {
          "base_uri": "https://localhost:8080/"
        },
        "id": "DLCnc_CNdAn6",
        "outputId": "6e7d2ba9-51cc-4f88-bc6e-b8b50162ceab"
      },
      "execution_count": 50,
      "outputs": [
        {
          "output_type": "stream",
          "name": "stdout",
          "text": [
            "Enter a word: beautiful\n",
            "Nouns related to 'beautiful': []\n",
            "Verbs related to 'beautiful': []\n",
            "Adjectives related to 'beautiful': ['beautiful']\n",
            "Adverbs related to 'beautiful': []\n"
          ]
        }
      ]
    },
    {
      "cell_type": "code",
      "source": [
        "Express. ...\n",
        "Solo. ...\n",
        "Short. ...\n",
        "Wrong. ...\n",
        "Wholesale. ...\n",
        "Home."
      ],
      "metadata": {
        "id": "FayS6XLbg1jW"
      },
      "execution_count": null,
      "outputs": []
    },
    {
      "cell_type": "code",
      "source": [
        "def extract_words(word, pos):\n",
        "    words = []\n",
        "    for syn in wordnet.synsets(word):\n",
        "        for lemma in syn.lemmas():\n",
        "            if lemma.synset().pos() == pos:\n",
        "                words.append(lemma.name())\n",
        "    return list(set(words))\n",
        "\n",
        "user_word = input(\"Enter a word: \")\n",
        "\n",
        "nouns = extract_words(user_word, 'n')\n",
        "\n",
        "verbs = extract_words(user_word, 'v')\n",
        "\n",
        "adjectives = extract_words(user_word, 'a')\n",
        "\n",
        "adverbs = extract_words(user_word, 'r')\n",
        "\n",
        "# Print the results\n",
        "print(f\"Nouns related to '{user_word}': {nouns}\")\n",
        "print(f\"Verbs related to '{user_word}': {verbs}\")\n",
        "print(f\"Adjectives related to '{user_word}': {adjectives}\")\n",
        "print(f\"Adverbs related to '{user_word}': {adverbs}\")\n"
      ],
      "metadata": {
        "colab": {
          "base_uri": "https://localhost:8080/"
        },
        "id": "FAOyA1yVhlk4",
        "outputId": "f8bb94ea-4a7d-454c-c52c-844f9644d14c"
      },
      "execution_count": 5,
      "outputs": [
        {
          "output_type": "stream",
          "name": "stdout",
          "text": [
            "Enter a word: express\n",
            "Nouns related to 'express': ['express_mail', 'expressage', 'express', 'limited']\n",
            "Verbs related to 'express': ['extract', 'evince', 'verbalize', 'state', 'utter', 'carry', 'verbalise', 'express', 'convey', 'give_tongue_to', 'press_out', 'show']\n",
            "Adjectives related to 'express': []\n",
            "Adverbs related to 'express': ['express']\n"
          ]
        }
      ]
    },
    {
      "cell_type": "code",
      "source": [
        "def extract_words(word, pos):\n",
        "    words = []\n",
        "    for syn in wordnet.synsets(word):\n",
        "        for lemma in syn.lemmas():\n",
        "            if lemma.synset().pos() == pos:\n",
        "                words.append(lemma.name())\n",
        "    return list(set(words))\n",
        "\n",
        "\n",
        "user_word = input(\"Enter a word: \")\n",
        "\n",
        "nouns = extract_words(user_word, 'n')\n",
        "\n",
        "verbs = extract_words(user_word, 'v')\n",
        "\n",
        "adjectives = extract_words(user_word, 'a')\n",
        "\n",
        "adverbs = extract_words(user_word, 'r')\n",
        "\n",
        "\n",
        "print(f\"Nouns related to '{user_word}': {nouns}\")\n",
        "print(f\"Verbs related to '{user_word}': {verbs}\")\n",
        "print(f\"Adjectives related to '{user_word}': {adjectives}\")\n",
        "print(f\"Adverbs related to '{user_word}': {adverbs}\")\n"
      ],
      "metadata": {
        "colab": {
          "base_uri": "https://localhost:8080/"
        },
        "id": "ASxCbyophlNU",
        "outputId": "c192d49b-1048-4394-85fe-2d2b6c989414"
      },
      "execution_count": 6,
      "outputs": [
        {
          "output_type": "stream",
          "name": "stdout",
          "text": [
            "Enter a word: wholesale\n",
            "Nouns related to 'wholesale': ['wholesale']\n",
            "Verbs related to 'wholesale': ['wholesale']\n",
            "Adjectives related to 'wholesale': []\n",
            "Adverbs related to 'wholesale': ['in_large_quantities', 'wholesale']\n"
          ]
        }
      ]
    },
    {
      "cell_type": "markdown",
      "source": [
        "f) for extracting the meaning of the word"
      ],
      "metadata": {
        "id": "jUSYE32wUueC"
      }
    },
    {
      "cell_type": "code",
      "source": [
        "syn = wordnet.synsets('hello')[0]\n",
        "print (\"Synset name :  \", syn.name())\n",
        "print (\"\\nSynset meaning : \", syn.definition())\n",
        "print (\"\\nSynset example : \", syn.examples())"
      ],
      "metadata": {
        "colab": {
          "base_uri": "https://localhost:8080/"
        },
        "id": "ZX5pXAZJhk8-",
        "outputId": "f63d8250-fd9a-48c3-a49e-eeb91cd2174d"
      },
      "execution_count": 7,
      "outputs": [
        {
          "output_type": "stream",
          "name": "stdout",
          "text": [
            "Synset name :   hello.n.01\n",
            "\n",
            "Synset meaning :  an expression of greeting\n",
            "\n",
            "Synset example :  ['every morning they exchanged polite hellos']\n"
          ]
        }
      ]
    },
    {
      "cell_type": "code",
      "source": [
        "syn = wordnet.synsets('forest')[0]\n",
        "print (\"Synset name :  \", syn.name())\n",
        "print (\"\\nSynset meaning : \", syn.definition())"
      ],
      "metadata": {
        "colab": {
          "base_uri": "https://localhost:8080/"
        },
        "id": "q9zwgwBgU3pd",
        "outputId": "5687ba10-2a32-4e7d-e475-59a49c88c831"
      },
      "execution_count": 12,
      "outputs": [
        {
          "output_type": "stream",
          "name": "stdout",
          "text": [
            "Synset name :   forest.n.01\n",
            "\n",
            "Synset meaning :  the trees and other plants in a large densely wooded area\n"
          ]
        }
      ]
    },
    {
      "cell_type": "code",
      "source": [
        "syn = wordnet.synsets('biology')[0]\n",
        "print (\"Synset name :  \", syn.name())\n",
        "print (\"\\nSynset meaning : \", syn.definition())\n"
      ],
      "metadata": {
        "colab": {
          "base_uri": "https://localhost:8080/"
        },
        "id": "hpf5LbDkVDTb",
        "outputId": "0f6fee8c-b838-47d9-e897-fac590df55e9"
      },
      "execution_count": 13,
      "outputs": [
        {
          "output_type": "stream",
          "name": "stdout",
          "text": [
            "Synset name :   biology.n.01\n",
            "\n",
            "Synset meaning :  the science that studies living organisms\n"
          ]
        }
      ]
    },
    {
      "cell_type": "code",
      "source": [
        "syn = wordnet.synsets('cute')[0]\n",
        "print (\"Synset name :  \", syn.name())\n",
        "print (\"\\nSynset meaning : \", syn.definition())\n",
        "print (\"\\nSynset example : \", syn.examples())"
      ],
      "metadata": {
        "colab": {
          "base_uri": "https://localhost:8080/"
        },
        "id": "hLGiASgrVLHD",
        "outputId": "118dab05-2930-4a2a-d1f2-80e82e60e0df"
      },
      "execution_count": 11,
      "outputs": [
        {
          "output_type": "stream",
          "name": "stdout",
          "text": [
            "Synset name :   cunning.s.01\n",
            "\n",
            "Synset meaning :  attractive especially by means of smallness or prettiness or quaintness\n",
            "\n",
            "Synset example :  ['a cute kid with pigtails', 'a cute little apartment', 'cunning kittens', 'a cunning baby']\n"
          ]
        }
      ]
    },
    {
      "cell_type": "code",
      "source": [
        "syn = wordnet.synsets('India')[0]\n",
        "print (\"Synset name :  \", syn.name())\n",
        "print (\"\\nSynset meaning : \", syn.definition())\n"
      ],
      "metadata": {
        "colab": {
          "base_uri": "https://localhost:8080/"
        },
        "id": "Dw7CDbtFVO4f",
        "outputId": "526eec94-f7f5-4a37-ce4f-95e0911c8c34"
      },
      "execution_count": 17,
      "outputs": [
        {
          "output_type": "stream",
          "name": "stdout",
          "text": [
            "Synset name :   india.n.01\n",
            "\n",
            "Synset meaning :  a republic in the Asian subcontinent in southern Asia; second most populous country in the world; achieved independence from the United Kingdom in 1947\n"
          ]
        }
      ]
    },
    {
      "cell_type": "markdown",
      "source": [
        "hypernyms and hyponyms\n",
        "\n",
        "Hypernyms are words that represent a category or a general concept that other words can fall under. For example, “fruit” is a hypernym for “apple”, “banana”, “orange”, and so on.\n",
        "\n",
        "Hyponyms, on the other hand, are words that fall under a particular category or concept. For example, “apple”, “banana”, and “orange” are hyponyms of the hypernym “fruit”.\n",
        "\n"
      ],
      "metadata": {
        "id": "brCER4yEWKkJ"
      }
    },
    {
      "cell_type": "code",
      "source": [
        "syn = wordnet.synsets('animal')[0]\n",
        "hypernyms = syn.hypernyms()\n",
        "print(\"Hypernyms : \", hypernyms)\n",
        "\n",
        "# Finding hyponyms\n",
        "syn = wordnet.synsets('vertebrate')[0]\n",
        "hyponyms = syn.hyponyms()\n",
        "print(\"Hyponyms of 'fruit': \", hyponyms)"
      ],
      "metadata": {
        "colab": {
          "base_uri": "https://localhost:8080/"
        },
        "id": "NiBXl0EIYNeS",
        "outputId": "50484bd5-16aa-4799-8e5e-7cbc66024c4e"
      },
      "execution_count": 26,
      "outputs": [
        {
          "output_type": "stream",
          "name": "stdout",
          "text": [
            "Hypernyms of 'apple':  [Synset('organism.n.01')]\n",
            "Hyponyms of 'fruit':  [Synset('amniota.n.01'), Synset('amniote.n.01'), Synset('amphibian.n.03'), Synset('aquatic_vertebrate.n.01'), Synset('bird.n.01'), Synset('fetus.n.01'), Synset('gnathostome.n.01'), Synset('mammal.n.01'), Synset('reptile.n.01'), Synset('tetrapod.n.01')]\n"
          ]
        }
      ]
    },
    {
      "cell_type": "code",
      "source": [
        "syn = wordnet.synsets('cutlery')[0]\n",
        "hypernyms = syn.hypernyms()\n",
        "print(\"Hypernyms : \", hypernyms)\n",
        "\n",
        "# Finding hyponyms\n",
        "syn = wordnet.synsets('spoon')[0]\n",
        "hyponyms = syn.hyponyms()\n",
        "print(\"Hyponyms  \", hyponyms)"
      ],
      "metadata": {
        "colab": {
          "base_uri": "https://localhost:8080/"
        },
        "id": "XY3q8fJnYNa_",
        "outputId": "76047a76-fcc6-4c8d-a686-dca5441afdf0"
      },
      "execution_count": 27,
      "outputs": [
        {
          "output_type": "stream",
          "name": "stdout",
          "text": [
            "Hypernyms of 'apple':  [Synset('cutting_implement.n.01')]\n",
            "Hyponyms of 'fruit':  [Synset('dessert_spoon.n.01'), Synset('runcible_spoon.n.01'), Synset('soupspoon.n.01'), Synset('sugar_spoon.n.01'), Synset('tablespoon.n.02'), Synset('tea_maker.n.01'), Synset('teaspoon.n.02'), Synset('wooden_spoon.n.02')]\n"
          ]
        }
      ]
    },
    {
      "cell_type": "code",
      "source": [
        "syn = wordnet.synsets('dog')[0]\n",
        "hypernyms = syn.hypernyms()\n",
        "print(\"Hypernyms  \", hypernyms)\n",
        "\n",
        "# Finding hyponyms\n",
        "syn = wordnet.synsets('pug')[0]\n",
        "hyponyms = syn.hyponyms()\n",
        "print(\"Hyponyms \", hyponyms)"
      ],
      "metadata": {
        "colab": {
          "base_uri": "https://localhost:8080/"
        },
        "id": "HyTpUcm5YNT8",
        "outputId": "34d2ff57-e4c5-44e5-fceb-b45b981ebedb"
      },
      "execution_count": 32,
      "outputs": [
        {
          "output_type": "stream",
          "name": "stdout",
          "text": [
            "Hypernyms   [Synset('canine.n.02'), Synset('domestic_animal.n.01')]\n",
            "Hyponyms  []\n"
          ]
        }
      ]
    },
    {
      "cell_type": "code",
      "source": [
        "\n",
        "# Finding hypernyms\n",
        "syn = wordnet.synsets('apple')[0]\n",
        "hypernyms = syn.hypernyms()\n",
        "print(\"Hypernyms \", hypernyms)\n",
        "\n",
        "# Finding hyponyms\n",
        "syn = wordnet.synsets('fruit')[0]\n",
        "hyponyms = syn.hyponyms()\n",
        "print(\"Hyponyms  \", hyponyms)"
      ],
      "metadata": {
        "colab": {
          "base_uri": "https://localhost:8080/"
        },
        "id": "_kWCsBWvWweV",
        "outputId": "8fa952f8-c401-43b8-d86e-4025d7997ea5"
      },
      "execution_count": 30,
      "outputs": [
        {
          "output_type": "stream",
          "name": "stdout",
          "text": [
            "Hypernyms  [Synset('edible_fruit.n.01'), Synset('pome.n.01')]\n",
            "Hyponyms   [Synset('accessory_fruit.n.01'), Synset('achene.n.01'), Synset('acorn.n.01'), Synset('aggregate_fruit.n.01'), Synset('berry.n.02'), Synset('buckthorn_berry.n.01'), Synset('buffalo_nut.n.01'), Synset('chokecherry.n.01'), Synset('cubeb.n.01'), Synset('drupe.n.01'), Synset('ear.n.05'), Synset('edible_fruit.n.01'), Synset('fruitlet.n.01'), Synset('gourd.n.02'), Synset('hagberry.n.01'), Synset('hip.n.05'), Synset('juniper_berry.n.01'), Synset('marasca.n.01'), Synset('may_apple.n.01'), Synset('olive.n.01'), Synset('pod.n.02'), Synset('pome.n.01'), Synset('prairie_gourd.n.01'), Synset('pyxidium.n.01'), Synset('quandong.n.02'), Synset('rowanberry.n.01'), Synset('schizocarp.n.01'), Synset('seed.n.01'), Synset('wild_cherry.n.01')]\n"
          ]
        }
      ]
    },
    {
      "cell_type": "markdown",
      "source": [
        "similarities of any two hyponyms of a word."
      ],
      "metadata": {
        "id": "rtkqwuepZaGY"
      }
    },
    {
      "cell_type": "code",
      "source": [
        "def get_similarity(word1, word2):\n",
        "    synsets1 = wordnet.synsets(word1)\n",
        "    synsets2 = wordnet.synsets(word2)\n",
        "    similarities = []\n",
        "    for synset1 in synsets1:\n",
        "        for synset2 in synsets2:\n",
        "            similarity = synset1.wup_similarity(synset2)\n",
        "            if similarity is not None:\n",
        "                similarities.append(similarity)\n",
        "    return max(similarities) if similarities else None\n",
        "\n",
        "# Example usage:\n",
        "word1 = input(\"Enter the first word: \")\n",
        "word2 = input(\"Enter the second word: \")\n",
        "\n",
        "similarity = get_similarity(word1, word2)\n",
        "if similarity is not None:\n",
        "    print(f\"Similarity between '{word1}' and '{word2}': {similarity}\")\n",
        "else:\n",
        "    print(\"No similarity found between the words.\")\n"
      ],
      "metadata": {
        "colab": {
          "base_uri": "https://localhost:8080/"
        },
        "id": "b0Lew_5AZhYV",
        "outputId": "18326236-c77c-43d4-fb9a-97edc577f1aa"
      },
      "execution_count": 35,
      "outputs": [
        {
          "output_type": "stream",
          "name": "stdout",
          "text": [
            "Enter the first word: vertebrate\n",
            "Enter the second word: invertebrate\n",
            "Similarity between 'vertebrate' and 'invertebrate': 0.8235294117647058\n"
          ]
        }
      ]
    },
    {
      "cell_type": "code",
      "source": [
        "def get_similarity(word1, word2):\n",
        "    synsets1 = wordnet.synsets(word1)\n",
        "    synsets2 = wordnet.synsets(word2)\n",
        "    similarities = []\n",
        "    for synset1 in synsets1:\n",
        "        for synset2 in synsets2:\n",
        "            similarity = synset1.wup_similarity(synset2)\n",
        "            if similarity is not None:\n",
        "                similarities.append(similarity)\n",
        "    return max(similarities) if similarities else None\n",
        "\n",
        "# Example usage:\n",
        "word1 = input(\"Enter the first word: \")\n",
        "word2 = input(\"Enter the second word: \")\n",
        "\n",
        "similarity = get_similarity(word1, word2)\n",
        "if similarity is not None:\n",
        "    print(f\"Similarity between '{word1}' and '{word2}': {similarity}\")\n",
        "else:\n",
        "    print(\"No similarity found between the words.\")\n"
      ],
      "metadata": {
        "colab": {
          "base_uri": "https://localhost:8080/"
        },
        "id": "6Bsud3HSZ9pS",
        "outputId": "efdcf87e-de8f-44ae-e2c6-df65751488ad"
      },
      "execution_count": 36,
      "outputs": [
        {
          "output_type": "stream",
          "name": "stdout",
          "text": [
            "Enter the first word: dog\n",
            "Enter the second word: cat\n",
            "Similarity between 'dog' and 'cat': 0.8571428571428571\n"
          ]
        }
      ]
    },
    {
      "cell_type": "code",
      "source": [],
      "metadata": {
        "id": "88Jm4eA3aGcr"
      },
      "execution_count": null,
      "outputs": []
    }
  ]
}