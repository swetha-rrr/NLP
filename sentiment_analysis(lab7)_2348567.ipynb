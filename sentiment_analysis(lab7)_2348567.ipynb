{
  "nbformat": 4,
  "nbformat_minor": 0,
  "metadata": {
    "colab": {
      "provenance": [],
      "gpuType": "T4",
      "authorship_tag": "ABX9TyO9VXVZYj34uhJ9cgvYWOq7",
      "include_colab_link": true
    },
    "kernelspec": {
      "name": "python3",
      "display_name": "Python 3"
    },
    "language_info": {
      "name": "python"
    },
    "accelerator": "GPU"
  },
  "cells": [
    {
      "cell_type": "markdown",
      "metadata": {
        "id": "view-in-github",
        "colab_type": "text"
      },
      "source": [
        "<a href=\"https://colab.research.google.com/github/swetha-rrr/NLP/blob/main/sentiment_analysis(lab7)_2348567.ipynb\" target=\"_parent\"><img src=\"https://colab.research.google.com/assets/colab-badge.svg\" alt=\"Open In Colab\"/></a>"
      ]
    },
    {
      "cell_type": "markdown",
      "source": [
        "1. Find the similarity between two documents (2 corpus or two paragraphs) using any of\n",
        "the two similarity measures."
      ],
      "metadata": {
        "id": "T1nUjpglAQ_W"
      }
    },
    {
      "cell_type": "code",
      "execution_count": 21,
      "metadata": {
        "colab": {
          "base_uri": "https://localhost:8080/"
        },
        "id": "ghFc-BZV_PIL",
        "outputId": "0130b48f-e655-4c4e-e6c8-6bee6ad4c1c9"
      },
      "outputs": [
        {
          "output_type": "stream",
          "name": "stderr",
          "text": [
            "[nltk_data] Downloading package punkt to /root/nltk_data...\n",
            "[nltk_data]   Package punkt is already up-to-date!\n",
            "[nltk_data] Downloading package stopwords to /root/nltk_data...\n",
            "[nltk_data]   Package stopwords is already up-to-date!\n",
            "[nltk_data] Downloading package wordnet to /root/nltk_data...\n",
            "[nltk_data]   Package wordnet is already up-to-date!\n",
            "[nltk_data] Downloading package averaged_perceptron_tagger to\n",
            "[nltk_data]     /root/nltk_data...\n",
            "[nltk_data]   Package averaged_perceptron_tagger is already up-to-\n",
            "[nltk_data]       date!\n"
          ]
        }
      ],
      "source": [
        "from sklearn.feature_extraction.text import CountVectorizer\n",
        "from sklearn.metrics.pairwise import cosine_similarity\n",
        "import nltk\n",
        "import nltk\n",
        "from nltk.tokenize import word_tokenize\n",
        "nltk.download('punkt')\n",
        "from nltk.corpus import stopwords\n",
        "nltk.download('stopwords')\n",
        "nltk.download('wordnet')\n",
        "nltk.download('averaged_perceptron_tagger')\n",
        "from nltk.stem import WordNetLemmatizer\n",
        "import re\n",
        "from gensim.models import Word2Vec\n"
      ]
    },
    {
      "cell_type": "code",
      "source": [
        "text1 =\"The technological advancements in the field of artificial intelligence have revolutionized various industries, including healthcare and finance. AI-powered systems are now capable of analyzing vast amounts of data to derive actionable insights, leading to more accurate diagnoses in medicine and more informed investment decisions in finance. As AI continues to evolve, its potential to transform other sectors such as education and transportation is becoming increasingly evident.\""
      ],
      "metadata": {
        "id": "ULS57OpF_VJ1"
      },
      "execution_count": 3,
      "outputs": []
    },
    {
      "cell_type": "code",
      "source": [
        "text2=\"The rapid progress in artificial intelligence has brought about significant changes across multiple sectors. In healthcare, AI algorithms are assisting doctors in diagnosing diseases earlier and with greater precision. Similarly, in finance, AI-driven models are enhancing risk management strategies and optimizing investment portfolios. Beyond these fields, AI is poised to revolutionize transportation with autonomous vehicles and redefine education through personalized learning experiences\""
      ],
      "metadata": {
        "id": "BtHslV4O_VMi"
      },
      "execution_count": 4,
      "outputs": []
    },
    {
      "cell_type": "markdown",
      "source": [
        "TOKENIZATION:"
      ],
      "metadata": {
        "id": "v0gECoiMCzVB"
      }
    },
    {
      "cell_type": "code",
      "source": [
        "tokens1 = word_tokenize(text1)\n",
        "tokens2 = word_tokenize(text2)\n",
        "\n",
        "print(\"Tokenized Paragraph 1:\")\n",
        "print(tokens1)\n",
        "print(\"\\nTokenized Paragraph 2:\")\n",
        "print(tokens2)\n"
      ],
      "metadata": {
        "colab": {
          "base_uri": "https://localhost:8080/"
        },
        "id": "iguh79gl_VPa",
        "outputId": "0443393c-03d2-408f-ea26-666f64c7beb6"
      },
      "execution_count": 10,
      "outputs": [
        {
          "output_type": "stream",
          "name": "stdout",
          "text": [
            "Tokenized Paragraph 1:\n",
            "['The', 'technological', 'advancements', 'in', 'the', 'field', 'of', 'artificial', 'intelligence', 'have', 'revolutionized', 'various', 'industries', ',', 'including', 'healthcare', 'and', 'finance', '.', 'AI-powered', 'systems', 'are', 'now', 'capable', 'of', 'analyzing', 'vast', 'amounts', 'of', 'data', 'to', 'derive', 'actionable', 'insights', ',', 'leading', 'to', 'more', 'accurate', 'diagnoses', 'in', 'medicine', 'and', 'more', 'informed', 'investment', 'decisions', 'in', 'finance', '.', 'As', 'AI', 'continues', 'to', 'evolve', ',', 'its', 'potential', 'to', 'transform', 'other', 'sectors', 'such', 'as', 'education', 'and', 'transportation', 'is', 'becoming', 'increasingly', 'evident', '.']\n",
            "\n",
            "Tokenized Paragraph 2:\n",
            "['The', 'rapid', 'progress', 'in', 'artificial', 'intelligence', 'has', 'brought', 'about', 'significant', 'changes', 'across', 'multiple', 'sectors', '.', 'In', 'healthcare', ',', 'AI', 'algorithms', 'are', 'assisting', 'doctors', 'in', 'diagnosing', 'diseases', 'earlier', 'and', 'with', 'greater', 'precision', '.', 'Similarly', ',', 'in', 'finance', ',', 'AI-driven', 'models', 'are', 'enhancing', 'risk', 'management', 'strategies', 'and', 'optimizing', 'investment', 'portfolios', '.', 'Beyond', 'these', 'fields', ',', 'AI', 'is', 'poised', 'to', 'revolutionize', 'transportation', 'with', 'autonomous', 'vehicles', 'and', 'redefine', 'education', 'through', 'personalized', 'learning', 'experiences']\n"
          ]
        }
      ]
    },
    {
      "cell_type": "markdown",
      "source": [
        "STOPWORDS REMOVAL:"
      ],
      "metadata": {
        "id": "5F6-31esC11E"
      }
    },
    {
      "cell_type": "code",
      "source": [
        "stop_words = set(stopwords.words('english'))\n",
        "\n",
        "filtered_tokens1 = [word for word in tokens1 if word.lower() not in stop_words]\n",
        "filtered_tokens2 = [word for word in tokens2 if word.lower() not in stop_words]\n",
        "\n",
        "print(\"Paragraph 1 without stopwords:\")\n",
        "print(filtered_tokens1)\n",
        "print(\"\\nParagraph 2 without stopwords:\")\n",
        "print(filtered_tokens2)"
      ],
      "metadata": {
        "colab": {
          "base_uri": "https://localhost:8080/"
        },
        "id": "gCsZKY3V_VS1",
        "outputId": "38604e48-ad97-4c03-e0e4-244b3e482a83"
      },
      "execution_count": 14,
      "outputs": [
        {
          "output_type": "stream",
          "name": "stdout",
          "text": [
            "Paragraph 1 without stopwords:\n",
            "['technological', 'advancements', 'field', 'artificial', 'intelligence', 'revolutionized', 'various', 'industries', ',', 'including', 'healthcare', 'finance', '.', 'AI-powered', 'systems', 'capable', 'analyzing', 'vast', 'amounts', 'data', 'derive', 'actionable', 'insights', ',', 'leading', 'accurate', 'diagnoses', 'medicine', 'informed', 'investment', 'decisions', 'finance', '.', 'AI', 'continues', 'evolve', ',', 'potential', 'transform', 'sectors', 'education', 'transportation', 'becoming', 'increasingly', 'evident', '.']\n",
            "\n",
            "Paragraph 2 without stopwords:\n",
            "['rapid', 'progress', 'artificial', 'intelligence', 'brought', 'significant', 'changes', 'across', 'multiple', 'sectors', '.', 'healthcare', ',', 'AI', 'algorithms', 'assisting', 'doctors', 'diagnosing', 'diseases', 'earlier', 'greater', 'precision', '.', 'Similarly', ',', 'finance', ',', 'AI-driven', 'models', 'enhancing', 'risk', 'management', 'strategies', 'optimizing', 'investment', 'portfolios', '.', 'Beyond', 'fields', ',', 'AI', 'poised', 'revolutionize', 'transportation', 'autonomous', 'vehicles', 'redefine', 'education', 'personalized', 'learning', 'experiences']\n"
          ]
        }
      ]
    },
    {
      "cell_type": "markdown",
      "source": [
        "LEMMATIZATION"
      ],
      "metadata": {
        "id": "dGAmAemJD3UB"
      }
    },
    {
      "cell_type": "code",
      "source": [
        "lemmatizer = WordNetLemmatizer()\n",
        "\n",
        "# Lemmatize tokens\n",
        "lemmatized_tokens1 = [lemmatizer.lemmatize(word) for word in tokens1]\n",
        "lemmatized_tokens2 = [lemmatizer.lemmatize(word) for word in tokens2]\n",
        "\n",
        "print(\"Paragraph 1 after lemmatization:\")\n",
        "print(lemmatized_tokens1)\n",
        "print(\"\\nParagraph 2 after lemmatization:\")\n",
        "print(lemmatized_tokens2)"
      ],
      "metadata": {
        "colab": {
          "base_uri": "https://localhost:8080/"
        },
        "id": "LoN90Gjz_VWV",
        "outputId": "622ef7b4-e9cd-4a3f-96cb-39202c438f4d"
      },
      "execution_count": 17,
      "outputs": [
        {
          "output_type": "stream",
          "name": "stdout",
          "text": [
            "Paragraph 1 after lemmatization:\n",
            "['The', 'technological', 'advancement', 'in', 'the', 'field', 'of', 'artificial', 'intelligence', 'have', 'revolutionized', 'various', 'industry', ',', 'including', 'healthcare', 'and', 'finance', '.', 'AI-powered', 'system', 'are', 'now', 'capable', 'of', 'analyzing', 'vast', 'amount', 'of', 'data', 'to', 'derive', 'actionable', 'insight', ',', 'leading', 'to', 'more', 'accurate', 'diagnosis', 'in', 'medicine', 'and', 'more', 'informed', 'investment', 'decision', 'in', 'finance', '.', 'As', 'AI', 'continues', 'to', 'evolve', ',', 'it', 'potential', 'to', 'transform', 'other', 'sector', 'such', 'a', 'education', 'and', 'transportation', 'is', 'becoming', 'increasingly', 'evident', '.']\n",
            "\n",
            "Paragraph 2 after lemmatization:\n",
            "['The', 'rapid', 'progress', 'in', 'artificial', 'intelligence', 'ha', 'brought', 'about', 'significant', 'change', 'across', 'multiple', 'sector', '.', 'In', 'healthcare', ',', 'AI', 'algorithm', 'are', 'assisting', 'doctor', 'in', 'diagnosing', 'disease', 'earlier', 'and', 'with', 'greater', 'precision', '.', 'Similarly', ',', 'in', 'finance', ',', 'AI-driven', 'model', 'are', 'enhancing', 'risk', 'management', 'strategy', 'and', 'optimizing', 'investment', 'portfolio', '.', 'Beyond', 'these', 'field', ',', 'AI', 'is', 'poised', 'to', 'revolutionize', 'transportation', 'with', 'autonomous', 'vehicle', 'and', 'redefine', 'education', 'through', 'personalized', 'learning', 'experience']\n"
          ]
        }
      ]
    },
    {
      "cell_type": "markdown",
      "source": [
        "PUNCTUATION REMOVAL"
      ],
      "metadata": {
        "id": "Vzp5sM36GRt0"
      }
    },
    {
      "cell_type": "code",
      "source": [
        "pattern = r'[^\\w\\s]'\n",
        "\n",
        "cleaned_text1 = re.sub(pattern, '', text1)\n",
        "cleaned_text2 = re.sub(pattern, '', text2)\n",
        "print(\"Paragraph 1 after punctuation removal:\")\n",
        "print(cleaned_text1)\n",
        "print(\"\\nParagraph 2 after punctuation removal:\")\n",
        "print(cleaned_text2)"
      ],
      "metadata": {
        "colab": {
          "base_uri": "https://localhost:8080/"
        },
        "id": "FSTNAe_L_VZn",
        "outputId": "b4461484-1a51-4770-ca9e-c2fd4ee59083"
      },
      "execution_count": 25,
      "outputs": [
        {
          "output_type": "stream",
          "name": "stdout",
          "text": [
            "Paragraph 1 after punctuation removal:\n",
            "The technological advancements in the field of artificial intelligence have revolutionized various industries including healthcare and finance AIpowered systems are now capable of analyzing vast amounts of data to derive actionable insights leading to more accurate diagnoses in medicine and more informed investment decisions in finance As AI continues to evolve its potential to transform other sectors such as education and transportation is becoming increasingly evident\n",
            "\n",
            "Paragraph 2 after punctuation removal:\n",
            "The rapid progress in artificial intelligence has brought about significant changes across multiple sectors In healthcare AI algorithms are assisting doctors in diagnosing diseases earlier and with greater precision Similarly in finance AIdriven models are enhancing risk management strategies and optimizing investment portfolios Beyond these fields AI is poised to revolutionize transportation with autonomous vehicles and redefine education through personalized learning experiences\n"
          ]
        }
      ]
    },
    {
      "cell_type": "markdown",
      "source": [
        "WORD2VEC"
      ],
      "metadata": {
        "id": "mvVntApgGUSb"
      }
    },
    {
      "cell_type": "code",
      "source": [
        "sentences = [lemmatized_tokens1,lemmatized_tokens2]\n",
        "word2vec_model = Word2Vec(sentences, min_count=1)\n",
        "\n"
      ],
      "metadata": {
        "id": "aPGMDCoXEQSv"
      },
      "execution_count": 26,
      "outputs": []
    },
    {
      "cell_type": "markdown",
      "source": [
        "COSINE SIMILARITY"
      ],
      "metadata": {
        "id": "TtzGQzkVJeKA"
      }
    },
    {
      "cell_type": "code",
      "source": [
        "sentences = [lemmatized_tokens1, lemmatized_tokens2]\n",
        "word2vec_model = Word2Vec(sentences, min_count=1)\n",
        "\n",
        "#cosine similarity\n",
        "vector1 = sum(word2vec_model.wv[word] for word in lemmatized_tokens1)\n",
        "vector2 = sum(word2vec_model.wv[word] for word in lemmatized_tokens2)\n",
        "cosine_sim = cosine_similarity([vector1], [vector2])\n",
        "print(\"Cosine Similarity:\")\n",
        "print(cosine_sim)\n"
      ],
      "metadata": {
        "colab": {
          "base_uri": "https://localhost:8080/"
        },
        "id": "U-sEel6iHJrY",
        "outputId": "177db87e-667b-4536-f253-aacff6a6c700"
      },
      "execution_count": 28,
      "outputs": [
        {
          "output_type": "stream",
          "name": "stdout",
          "text": [
            "Cosine Similarity:\n",
            "[[0.5992567]]\n"
          ]
        }
      ]
    },
    {
      "cell_type": "markdown",
      "source": [
        "JACCARD SIMILARITY"
      ],
      "metadata": {
        "id": "nP5p0RgWHnpK"
      }
    },
    {
      "cell_type": "code",
      "source": [
        "set1 = set(lemmatized_tokens1)\n",
        "set2 = set(lemmatized_tokens2)\n",
        "\n",
        "intersection = len(set1.intersection(set2))\n",
        "union = len(set1.union(set2))\n",
        "jaccard_sim = intersection / union\n",
        "print(\"Jaccard Similarity:\")\n",
        "print(jaccard_sim)\n"
      ],
      "metadata": {
        "colab": {
          "base_uri": "https://localhost:8080/"
        },
        "id": "OS8o-rr1HbZz",
        "outputId": "b1f096ad-e0c4-439f-cb33-16ad5ae52f63"
      },
      "execution_count": 29,
      "outputs": [
        {
          "output_type": "stream",
          "name": "stdout",
          "text": [
            "Jaccard Similarity:\n",
            "0.1875\n"
          ]
        }
      ]
    },
    {
      "cell_type": "markdown",
      "source": [
        "2. Sentiment Analysis using Bayesian Classification."
      ],
      "metadata": {
        "id": "dMj51KtgH99J"
      }
    },
    {
      "cell_type": "code",
      "source": [
        "import pandas as pd\n",
        "import nltk\n",
        "import numpy as np\n",
        "from nltk.tokenize import word_tokenize\n",
        "from nltk.corpus import stopwords\n",
        "from sklearn.preprocessing import LabelEncoder\n",
        "\n",
        "from nltk.stem import WordNetLemmatizer\n",
        "from sklearn.feature_extraction.text import CountVectorizer\n",
        "from sklearn.naive_bayes import MultinomialNB\n",
        "from sklearn.metrics import accuracy_score\n",
        "from tensorflow.keras.preprocessing.sequence import pad_sequences\n",
        "from tensorflow.keras.models import Sequential\n",
        "from tensorflow.keras.layers import Embedding, LSTM, Dense, Dropout\n",
        "from tensorflow.keras.preprocessing.text import Tokenizer\n"
      ],
      "metadata": {
        "id": "kRqWaB-VHvFP"
      },
      "execution_count": 52,
      "outputs": []
    },
    {
      "cell_type": "code",
      "source": [
        "data=pd.read_csv(\"/content/Tweets.csv\")"
      ],
      "metadata": {
        "id": "0KWLNaT9JcNH"
      },
      "execution_count": 31,
      "outputs": []
    },
    {
      "cell_type": "code",
      "source": [
        "data.head(10)"
      ],
      "metadata": {
        "colab": {
          "base_uri": "https://localhost:8080/",
          "height": 363
        },
        "id": "14REF1MLKs1v",
        "outputId": "646db3a8-133a-4f00-bbfc-f4c8a2c7ceda"
      },
      "execution_count": 32,
      "outputs": [
        {
          "output_type": "execute_result",
          "data": {
            "text/plain": [
              "       textID                                               text  \\\n",
              "0  cb774db0d1                I`d have responded, if I were going   \n",
              "1  549e992a42      Sooo SAD I will miss you here in San Diego!!!   \n",
              "2  088c60f138                          my boss is bullying me...   \n",
              "3  9642c003ef                     what interview! leave me alone   \n",
              "4  358bd9e861   Sons of ****, why couldn`t they put them on t...   \n",
              "5  28b57f3990  http://www.dothebouncy.com/smf - some shameles...   \n",
              "6  6e0c6d75b1  2am feedings for the baby are fun when he is a...   \n",
              "7  50e14c0bb8                                         Soooo high   \n",
              "8  e050245fbd                                        Both of you   \n",
              "9  fc2cbefa9d   Journey!? Wow... u just became cooler.  hehe....   \n",
              "\n",
              "                                       selected_text sentiment  \n",
              "0                I`d have responded, if I were going   neutral  \n",
              "1                                           Sooo SAD  negative  \n",
              "2                                        bullying me  negative  \n",
              "3                                     leave me alone  negative  \n",
              "4                                      Sons of ****,  negative  \n",
              "5  http://www.dothebouncy.com/smf - some shameles...   neutral  \n",
              "6                                                fun  positive  \n",
              "7                                         Soooo high   neutral  \n",
              "8                                        Both of you   neutral  \n",
              "9                       Wow... u just became cooler.  positive  "
            ],
            "text/html": [
              "\n",
              "  <div id=\"df-d4baf0ae-6a29-46fb-8db7-8f7c4d4e0487\" class=\"colab-df-container\">\n",
              "    <div>\n",
              "<style scoped>\n",
              "    .dataframe tbody tr th:only-of-type {\n",
              "        vertical-align: middle;\n",
              "    }\n",
              "\n",
              "    .dataframe tbody tr th {\n",
              "        vertical-align: top;\n",
              "    }\n",
              "\n",
              "    .dataframe thead th {\n",
              "        text-align: right;\n",
              "    }\n",
              "</style>\n",
              "<table border=\"1\" class=\"dataframe\">\n",
              "  <thead>\n",
              "    <tr style=\"text-align: right;\">\n",
              "      <th></th>\n",
              "      <th>textID</th>\n",
              "      <th>text</th>\n",
              "      <th>selected_text</th>\n",
              "      <th>sentiment</th>\n",
              "    </tr>\n",
              "  </thead>\n",
              "  <tbody>\n",
              "    <tr>\n",
              "      <th>0</th>\n",
              "      <td>cb774db0d1</td>\n",
              "      <td>I`d have responded, if I were going</td>\n",
              "      <td>I`d have responded, if I were going</td>\n",
              "      <td>neutral</td>\n",
              "    </tr>\n",
              "    <tr>\n",
              "      <th>1</th>\n",
              "      <td>549e992a42</td>\n",
              "      <td>Sooo SAD I will miss you here in San Diego!!!</td>\n",
              "      <td>Sooo SAD</td>\n",
              "      <td>negative</td>\n",
              "    </tr>\n",
              "    <tr>\n",
              "      <th>2</th>\n",
              "      <td>088c60f138</td>\n",
              "      <td>my boss is bullying me...</td>\n",
              "      <td>bullying me</td>\n",
              "      <td>negative</td>\n",
              "    </tr>\n",
              "    <tr>\n",
              "      <th>3</th>\n",
              "      <td>9642c003ef</td>\n",
              "      <td>what interview! leave me alone</td>\n",
              "      <td>leave me alone</td>\n",
              "      <td>negative</td>\n",
              "    </tr>\n",
              "    <tr>\n",
              "      <th>4</th>\n",
              "      <td>358bd9e861</td>\n",
              "      <td>Sons of ****, why couldn`t they put them on t...</td>\n",
              "      <td>Sons of ****,</td>\n",
              "      <td>negative</td>\n",
              "    </tr>\n",
              "    <tr>\n",
              "      <th>5</th>\n",
              "      <td>28b57f3990</td>\n",
              "      <td>http://www.dothebouncy.com/smf - some shameles...</td>\n",
              "      <td>http://www.dothebouncy.com/smf - some shameles...</td>\n",
              "      <td>neutral</td>\n",
              "    </tr>\n",
              "    <tr>\n",
              "      <th>6</th>\n",
              "      <td>6e0c6d75b1</td>\n",
              "      <td>2am feedings for the baby are fun when he is a...</td>\n",
              "      <td>fun</td>\n",
              "      <td>positive</td>\n",
              "    </tr>\n",
              "    <tr>\n",
              "      <th>7</th>\n",
              "      <td>50e14c0bb8</td>\n",
              "      <td>Soooo high</td>\n",
              "      <td>Soooo high</td>\n",
              "      <td>neutral</td>\n",
              "    </tr>\n",
              "    <tr>\n",
              "      <th>8</th>\n",
              "      <td>e050245fbd</td>\n",
              "      <td>Both of you</td>\n",
              "      <td>Both of you</td>\n",
              "      <td>neutral</td>\n",
              "    </tr>\n",
              "    <tr>\n",
              "      <th>9</th>\n",
              "      <td>fc2cbefa9d</td>\n",
              "      <td>Journey!? Wow... u just became cooler.  hehe....</td>\n",
              "      <td>Wow... u just became cooler.</td>\n",
              "      <td>positive</td>\n",
              "    </tr>\n",
              "  </tbody>\n",
              "</table>\n",
              "</div>\n",
              "    <div class=\"colab-df-buttons\">\n",
              "\n",
              "  <div class=\"colab-df-container\">\n",
              "    <button class=\"colab-df-convert\" onclick=\"convertToInteractive('df-d4baf0ae-6a29-46fb-8db7-8f7c4d4e0487')\"\n",
              "            title=\"Convert this dataframe to an interactive table.\"\n",
              "            style=\"display:none;\">\n",
              "\n",
              "  <svg xmlns=\"http://www.w3.org/2000/svg\" height=\"24px\" viewBox=\"0 -960 960 960\">\n",
              "    <path d=\"M120-120v-720h720v720H120Zm60-500h600v-160H180v160Zm220 220h160v-160H400v160Zm0 220h160v-160H400v160ZM180-400h160v-160H180v160Zm440 0h160v-160H620v160ZM180-180h160v-160H180v160Zm440 0h160v-160H620v160Z\"/>\n",
              "  </svg>\n",
              "    </button>\n",
              "\n",
              "  <style>\n",
              "    .colab-df-container {\n",
              "      display:flex;\n",
              "      gap: 12px;\n",
              "    }\n",
              "\n",
              "    .colab-df-convert {\n",
              "      background-color: #E8F0FE;\n",
              "      border: none;\n",
              "      border-radius: 50%;\n",
              "      cursor: pointer;\n",
              "      display: none;\n",
              "      fill: #1967D2;\n",
              "      height: 32px;\n",
              "      padding: 0 0 0 0;\n",
              "      width: 32px;\n",
              "    }\n",
              "\n",
              "    .colab-df-convert:hover {\n",
              "      background-color: #E2EBFA;\n",
              "      box-shadow: 0px 1px 2px rgba(60, 64, 67, 0.3), 0px 1px 3px 1px rgba(60, 64, 67, 0.15);\n",
              "      fill: #174EA6;\n",
              "    }\n",
              "\n",
              "    .colab-df-buttons div {\n",
              "      margin-bottom: 4px;\n",
              "    }\n",
              "\n",
              "    [theme=dark] .colab-df-convert {\n",
              "      background-color: #3B4455;\n",
              "      fill: #D2E3FC;\n",
              "    }\n",
              "\n",
              "    [theme=dark] .colab-df-convert:hover {\n",
              "      background-color: #434B5C;\n",
              "      box-shadow: 0px 1px 3px 1px rgba(0, 0, 0, 0.15);\n",
              "      filter: drop-shadow(0px 1px 2px rgba(0, 0, 0, 0.3));\n",
              "      fill: #FFFFFF;\n",
              "    }\n",
              "  </style>\n",
              "\n",
              "    <script>\n",
              "      const buttonEl =\n",
              "        document.querySelector('#df-d4baf0ae-6a29-46fb-8db7-8f7c4d4e0487 button.colab-df-convert');\n",
              "      buttonEl.style.display =\n",
              "        google.colab.kernel.accessAllowed ? 'block' : 'none';\n",
              "\n",
              "      async function convertToInteractive(key) {\n",
              "        const element = document.querySelector('#df-d4baf0ae-6a29-46fb-8db7-8f7c4d4e0487');\n",
              "        const dataTable =\n",
              "          await google.colab.kernel.invokeFunction('convertToInteractive',\n",
              "                                                    [key], {});\n",
              "        if (!dataTable) return;\n",
              "\n",
              "        const docLinkHtml = 'Like what you see? Visit the ' +\n",
              "          '<a target=\"_blank\" href=https://colab.research.google.com/notebooks/data_table.ipynb>data table notebook</a>'\n",
              "          + ' to learn more about interactive tables.';\n",
              "        element.innerHTML = '';\n",
              "        dataTable['output_type'] = 'display_data';\n",
              "        await google.colab.output.renderOutput(dataTable, element);\n",
              "        const docLink = document.createElement('div');\n",
              "        docLink.innerHTML = docLinkHtml;\n",
              "        element.appendChild(docLink);\n",
              "      }\n",
              "    </script>\n",
              "  </div>\n",
              "\n",
              "\n",
              "<div id=\"df-c430d339-569e-42af-84fa-30d072972986\">\n",
              "  <button class=\"colab-df-quickchart\" onclick=\"quickchart('df-c430d339-569e-42af-84fa-30d072972986')\"\n",
              "            title=\"Suggest charts\"\n",
              "            style=\"display:none;\">\n",
              "\n",
              "<svg xmlns=\"http://www.w3.org/2000/svg\" height=\"24px\"viewBox=\"0 0 24 24\"\n",
              "     width=\"24px\">\n",
              "    <g>\n",
              "        <path d=\"M19 3H5c-1.1 0-2 .9-2 2v14c0 1.1.9 2 2 2h14c1.1 0 2-.9 2-2V5c0-1.1-.9-2-2-2zM9 17H7v-7h2v7zm4 0h-2V7h2v10zm4 0h-2v-4h2v4z\"/>\n",
              "    </g>\n",
              "</svg>\n",
              "  </button>\n",
              "\n",
              "<style>\n",
              "  .colab-df-quickchart {\n",
              "      --bg-color: #E8F0FE;\n",
              "      --fill-color: #1967D2;\n",
              "      --hover-bg-color: #E2EBFA;\n",
              "      --hover-fill-color: #174EA6;\n",
              "      --disabled-fill-color: #AAA;\n",
              "      --disabled-bg-color: #DDD;\n",
              "  }\n",
              "\n",
              "  [theme=dark] .colab-df-quickchart {\n",
              "      --bg-color: #3B4455;\n",
              "      --fill-color: #D2E3FC;\n",
              "      --hover-bg-color: #434B5C;\n",
              "      --hover-fill-color: #FFFFFF;\n",
              "      --disabled-bg-color: #3B4455;\n",
              "      --disabled-fill-color: #666;\n",
              "  }\n",
              "\n",
              "  .colab-df-quickchart {\n",
              "    background-color: var(--bg-color);\n",
              "    border: none;\n",
              "    border-radius: 50%;\n",
              "    cursor: pointer;\n",
              "    display: none;\n",
              "    fill: var(--fill-color);\n",
              "    height: 32px;\n",
              "    padding: 0;\n",
              "    width: 32px;\n",
              "  }\n",
              "\n",
              "  .colab-df-quickchart:hover {\n",
              "    background-color: var(--hover-bg-color);\n",
              "    box-shadow: 0 1px 2px rgba(60, 64, 67, 0.3), 0 1px 3px 1px rgba(60, 64, 67, 0.15);\n",
              "    fill: var(--button-hover-fill-color);\n",
              "  }\n",
              "\n",
              "  .colab-df-quickchart-complete:disabled,\n",
              "  .colab-df-quickchart-complete:disabled:hover {\n",
              "    background-color: var(--disabled-bg-color);\n",
              "    fill: var(--disabled-fill-color);\n",
              "    box-shadow: none;\n",
              "  }\n",
              "\n",
              "  .colab-df-spinner {\n",
              "    border: 2px solid var(--fill-color);\n",
              "    border-color: transparent;\n",
              "    border-bottom-color: var(--fill-color);\n",
              "    animation:\n",
              "      spin 1s steps(1) infinite;\n",
              "  }\n",
              "\n",
              "  @keyframes spin {\n",
              "    0% {\n",
              "      border-color: transparent;\n",
              "      border-bottom-color: var(--fill-color);\n",
              "      border-left-color: var(--fill-color);\n",
              "    }\n",
              "    20% {\n",
              "      border-color: transparent;\n",
              "      border-left-color: var(--fill-color);\n",
              "      border-top-color: var(--fill-color);\n",
              "    }\n",
              "    30% {\n",
              "      border-color: transparent;\n",
              "      border-left-color: var(--fill-color);\n",
              "      border-top-color: var(--fill-color);\n",
              "      border-right-color: var(--fill-color);\n",
              "    }\n",
              "    40% {\n",
              "      border-color: transparent;\n",
              "      border-right-color: var(--fill-color);\n",
              "      border-top-color: var(--fill-color);\n",
              "    }\n",
              "    60% {\n",
              "      border-color: transparent;\n",
              "      border-right-color: var(--fill-color);\n",
              "    }\n",
              "    80% {\n",
              "      border-color: transparent;\n",
              "      border-right-color: var(--fill-color);\n",
              "      border-bottom-color: var(--fill-color);\n",
              "    }\n",
              "    90% {\n",
              "      border-color: transparent;\n",
              "      border-bottom-color: var(--fill-color);\n",
              "    }\n",
              "  }\n",
              "</style>\n",
              "\n",
              "  <script>\n",
              "    async function quickchart(key) {\n",
              "      const quickchartButtonEl =\n",
              "        document.querySelector('#' + key + ' button');\n",
              "      quickchartButtonEl.disabled = true;  // To prevent multiple clicks.\n",
              "      quickchartButtonEl.classList.add('colab-df-spinner');\n",
              "      try {\n",
              "        const charts = await google.colab.kernel.invokeFunction(\n",
              "            'suggestCharts', [key], {});\n",
              "      } catch (error) {\n",
              "        console.error('Error during call to suggestCharts:', error);\n",
              "      }\n",
              "      quickchartButtonEl.classList.remove('colab-df-spinner');\n",
              "      quickchartButtonEl.classList.add('colab-df-quickchart-complete');\n",
              "    }\n",
              "    (() => {\n",
              "      let quickchartButtonEl =\n",
              "        document.querySelector('#df-c430d339-569e-42af-84fa-30d072972986 button');\n",
              "      quickchartButtonEl.style.display =\n",
              "        google.colab.kernel.accessAllowed ? 'block' : 'none';\n",
              "    })();\n",
              "  </script>\n",
              "</div>\n",
              "    </div>\n",
              "  </div>\n"
            ],
            "application/vnd.google.colaboratory.intrinsic+json": {
              "type": "dataframe",
              "variable_name": "data",
              "summary": "{\n  \"name\": \"data\",\n  \"rows\": 27481,\n  \"fields\": [\n    {\n      \"column\": \"textID\",\n      \"properties\": {\n        \"dtype\": \"string\",\n        \"num_unique_values\": 27481,\n        \"samples\": [\n          \"a7f72a928a\",\n          \"ef42dee96c\",\n          \"07d17131b1\"\n        ],\n        \"semantic_type\": \"\",\n        \"description\": \"\"\n      }\n    },\n    {\n      \"column\": \"text\",\n      \"properties\": {\n        \"dtype\": \"string\",\n        \"num_unique_values\": 27480,\n        \"samples\": [\n          \" Enjoy! Family trumps everything\",\n          \" --of them kinda turns me off of it all.  And then I buy more of them and dig a deeper hole, etc. ;;\",\n          \"Clive it`s my birthday pat me  http://apps.facebook.com/dogbook/profile/view/6386106\"\n        ],\n        \"semantic_type\": \"\",\n        \"description\": \"\"\n      }\n    },\n    {\n      \"column\": \"selected_text\",\n      \"properties\": {\n        \"dtype\": \"string\",\n        \"num_unique_values\": 22463,\n        \"samples\": [\n          \"we win\",\n          \"YES!!! haahaaa.! break out the jellybeaniesss!\",\n          \"hay wats ur AIM? we should chat\"\n        ],\n        \"semantic_type\": \"\",\n        \"description\": \"\"\n      }\n    },\n    {\n      \"column\": \"sentiment\",\n      \"properties\": {\n        \"dtype\": \"category\",\n        \"num_unique_values\": 3,\n        \"samples\": [\n          \"neutral\",\n          \"negative\",\n          \"positive\"\n        ],\n        \"semantic_type\": \"\",\n        \"description\": \"\"\n      }\n    }\n  ]\n}"
            }
          },
          "metadata": {},
          "execution_count": 32
        }
      ]
    },
    {
      "cell_type": "code",
      "source": [
        "df = data.drop('textID', axis=1)\n"
      ],
      "metadata": {
        "id": "eR6OWqHCL80y"
      },
      "execution_count": 36,
      "outputs": []
    },
    {
      "cell_type": "code",
      "source": [
        "df.head()"
      ],
      "metadata": {
        "colab": {
          "base_uri": "https://localhost:8080/",
          "height": 206
        },
        "id": "cYS8XiESMCHl",
        "outputId": "570af83c-112b-47eb-d946-70b82893c6c0"
      },
      "execution_count": 37,
      "outputs": [
        {
          "output_type": "execute_result",
          "data": {
            "text/plain": [
              "                                                text  \\\n",
              "0                I`d have responded, if I were going   \n",
              "1      Sooo SAD I will miss you here in San Diego!!!   \n",
              "2                          my boss is bullying me...   \n",
              "3                     what interview! leave me alone   \n",
              "4   Sons of ****, why couldn`t they put them on t...   \n",
              "\n",
              "                         selected_text sentiment  \n",
              "0  I`d have responded, if I were going   neutral  \n",
              "1                             Sooo SAD  negative  \n",
              "2                          bullying me  negative  \n",
              "3                       leave me alone  negative  \n",
              "4                        Sons of ****,  negative  "
            ],
            "text/html": [
              "\n",
              "  <div id=\"df-5e804ac3-af9b-4d2a-97cc-de63c810c06e\" class=\"colab-df-container\">\n",
              "    <div>\n",
              "<style scoped>\n",
              "    .dataframe tbody tr th:only-of-type {\n",
              "        vertical-align: middle;\n",
              "    }\n",
              "\n",
              "    .dataframe tbody tr th {\n",
              "        vertical-align: top;\n",
              "    }\n",
              "\n",
              "    .dataframe thead th {\n",
              "        text-align: right;\n",
              "    }\n",
              "</style>\n",
              "<table border=\"1\" class=\"dataframe\">\n",
              "  <thead>\n",
              "    <tr style=\"text-align: right;\">\n",
              "      <th></th>\n",
              "      <th>text</th>\n",
              "      <th>selected_text</th>\n",
              "      <th>sentiment</th>\n",
              "    </tr>\n",
              "  </thead>\n",
              "  <tbody>\n",
              "    <tr>\n",
              "      <th>0</th>\n",
              "      <td>I`d have responded, if I were going</td>\n",
              "      <td>I`d have responded, if I were going</td>\n",
              "      <td>neutral</td>\n",
              "    </tr>\n",
              "    <tr>\n",
              "      <th>1</th>\n",
              "      <td>Sooo SAD I will miss you here in San Diego!!!</td>\n",
              "      <td>Sooo SAD</td>\n",
              "      <td>negative</td>\n",
              "    </tr>\n",
              "    <tr>\n",
              "      <th>2</th>\n",
              "      <td>my boss is bullying me...</td>\n",
              "      <td>bullying me</td>\n",
              "      <td>negative</td>\n",
              "    </tr>\n",
              "    <tr>\n",
              "      <th>3</th>\n",
              "      <td>what interview! leave me alone</td>\n",
              "      <td>leave me alone</td>\n",
              "      <td>negative</td>\n",
              "    </tr>\n",
              "    <tr>\n",
              "      <th>4</th>\n",
              "      <td>Sons of ****, why couldn`t they put them on t...</td>\n",
              "      <td>Sons of ****,</td>\n",
              "      <td>negative</td>\n",
              "    </tr>\n",
              "  </tbody>\n",
              "</table>\n",
              "</div>\n",
              "    <div class=\"colab-df-buttons\">\n",
              "\n",
              "  <div class=\"colab-df-container\">\n",
              "    <button class=\"colab-df-convert\" onclick=\"convertToInteractive('df-5e804ac3-af9b-4d2a-97cc-de63c810c06e')\"\n",
              "            title=\"Convert this dataframe to an interactive table.\"\n",
              "            style=\"display:none;\">\n",
              "\n",
              "  <svg xmlns=\"http://www.w3.org/2000/svg\" height=\"24px\" viewBox=\"0 -960 960 960\">\n",
              "    <path d=\"M120-120v-720h720v720H120Zm60-500h600v-160H180v160Zm220 220h160v-160H400v160Zm0 220h160v-160H400v160ZM180-400h160v-160H180v160Zm440 0h160v-160H620v160ZM180-180h160v-160H180v160Zm440 0h160v-160H620v160Z\"/>\n",
              "  </svg>\n",
              "    </button>\n",
              "\n",
              "  <style>\n",
              "    .colab-df-container {\n",
              "      display:flex;\n",
              "      gap: 12px;\n",
              "    }\n",
              "\n",
              "    .colab-df-convert {\n",
              "      background-color: #E8F0FE;\n",
              "      border: none;\n",
              "      border-radius: 50%;\n",
              "      cursor: pointer;\n",
              "      display: none;\n",
              "      fill: #1967D2;\n",
              "      height: 32px;\n",
              "      padding: 0 0 0 0;\n",
              "      width: 32px;\n",
              "    }\n",
              "\n",
              "    .colab-df-convert:hover {\n",
              "      background-color: #E2EBFA;\n",
              "      box-shadow: 0px 1px 2px rgba(60, 64, 67, 0.3), 0px 1px 3px 1px rgba(60, 64, 67, 0.15);\n",
              "      fill: #174EA6;\n",
              "    }\n",
              "\n",
              "    .colab-df-buttons div {\n",
              "      margin-bottom: 4px;\n",
              "    }\n",
              "\n",
              "    [theme=dark] .colab-df-convert {\n",
              "      background-color: #3B4455;\n",
              "      fill: #D2E3FC;\n",
              "    }\n",
              "\n",
              "    [theme=dark] .colab-df-convert:hover {\n",
              "      background-color: #434B5C;\n",
              "      box-shadow: 0px 1px 3px 1px rgba(0, 0, 0, 0.15);\n",
              "      filter: drop-shadow(0px 1px 2px rgba(0, 0, 0, 0.3));\n",
              "      fill: #FFFFFF;\n",
              "    }\n",
              "  </style>\n",
              "\n",
              "    <script>\n",
              "      const buttonEl =\n",
              "        document.querySelector('#df-5e804ac3-af9b-4d2a-97cc-de63c810c06e button.colab-df-convert');\n",
              "      buttonEl.style.display =\n",
              "        google.colab.kernel.accessAllowed ? 'block' : 'none';\n",
              "\n",
              "      async function convertToInteractive(key) {\n",
              "        const element = document.querySelector('#df-5e804ac3-af9b-4d2a-97cc-de63c810c06e');\n",
              "        const dataTable =\n",
              "          await google.colab.kernel.invokeFunction('convertToInteractive',\n",
              "                                                    [key], {});\n",
              "        if (!dataTable) return;\n",
              "\n",
              "        const docLinkHtml = 'Like what you see? Visit the ' +\n",
              "          '<a target=\"_blank\" href=https://colab.research.google.com/notebooks/data_table.ipynb>data table notebook</a>'\n",
              "          + ' to learn more about interactive tables.';\n",
              "        element.innerHTML = '';\n",
              "        dataTable['output_type'] = 'display_data';\n",
              "        await google.colab.output.renderOutput(dataTable, element);\n",
              "        const docLink = document.createElement('div');\n",
              "        docLink.innerHTML = docLinkHtml;\n",
              "        element.appendChild(docLink);\n",
              "      }\n",
              "    </script>\n",
              "  </div>\n",
              "\n",
              "\n",
              "<div id=\"df-f11b211d-0321-45c6-8846-8e1942e58a7b\">\n",
              "  <button class=\"colab-df-quickchart\" onclick=\"quickchart('df-f11b211d-0321-45c6-8846-8e1942e58a7b')\"\n",
              "            title=\"Suggest charts\"\n",
              "            style=\"display:none;\">\n",
              "\n",
              "<svg xmlns=\"http://www.w3.org/2000/svg\" height=\"24px\"viewBox=\"0 0 24 24\"\n",
              "     width=\"24px\">\n",
              "    <g>\n",
              "        <path d=\"M19 3H5c-1.1 0-2 .9-2 2v14c0 1.1.9 2 2 2h14c1.1 0 2-.9 2-2V5c0-1.1-.9-2-2-2zM9 17H7v-7h2v7zm4 0h-2V7h2v10zm4 0h-2v-4h2v4z\"/>\n",
              "    </g>\n",
              "</svg>\n",
              "  </button>\n",
              "\n",
              "<style>\n",
              "  .colab-df-quickchart {\n",
              "      --bg-color: #E8F0FE;\n",
              "      --fill-color: #1967D2;\n",
              "      --hover-bg-color: #E2EBFA;\n",
              "      --hover-fill-color: #174EA6;\n",
              "      --disabled-fill-color: #AAA;\n",
              "      --disabled-bg-color: #DDD;\n",
              "  }\n",
              "\n",
              "  [theme=dark] .colab-df-quickchart {\n",
              "      --bg-color: #3B4455;\n",
              "      --fill-color: #D2E3FC;\n",
              "      --hover-bg-color: #434B5C;\n",
              "      --hover-fill-color: #FFFFFF;\n",
              "      --disabled-bg-color: #3B4455;\n",
              "      --disabled-fill-color: #666;\n",
              "  }\n",
              "\n",
              "  .colab-df-quickchart {\n",
              "    background-color: var(--bg-color);\n",
              "    border: none;\n",
              "    border-radius: 50%;\n",
              "    cursor: pointer;\n",
              "    display: none;\n",
              "    fill: var(--fill-color);\n",
              "    height: 32px;\n",
              "    padding: 0;\n",
              "    width: 32px;\n",
              "  }\n",
              "\n",
              "  .colab-df-quickchart:hover {\n",
              "    background-color: var(--hover-bg-color);\n",
              "    box-shadow: 0 1px 2px rgba(60, 64, 67, 0.3), 0 1px 3px 1px rgba(60, 64, 67, 0.15);\n",
              "    fill: var(--button-hover-fill-color);\n",
              "  }\n",
              "\n",
              "  .colab-df-quickchart-complete:disabled,\n",
              "  .colab-df-quickchart-complete:disabled:hover {\n",
              "    background-color: var(--disabled-bg-color);\n",
              "    fill: var(--disabled-fill-color);\n",
              "    box-shadow: none;\n",
              "  }\n",
              "\n",
              "  .colab-df-spinner {\n",
              "    border: 2px solid var(--fill-color);\n",
              "    border-color: transparent;\n",
              "    border-bottom-color: var(--fill-color);\n",
              "    animation:\n",
              "      spin 1s steps(1) infinite;\n",
              "  }\n",
              "\n",
              "  @keyframes spin {\n",
              "    0% {\n",
              "      border-color: transparent;\n",
              "      border-bottom-color: var(--fill-color);\n",
              "      border-left-color: var(--fill-color);\n",
              "    }\n",
              "    20% {\n",
              "      border-color: transparent;\n",
              "      border-left-color: var(--fill-color);\n",
              "      border-top-color: var(--fill-color);\n",
              "    }\n",
              "    30% {\n",
              "      border-color: transparent;\n",
              "      border-left-color: var(--fill-color);\n",
              "      border-top-color: var(--fill-color);\n",
              "      border-right-color: var(--fill-color);\n",
              "    }\n",
              "    40% {\n",
              "      border-color: transparent;\n",
              "      border-right-color: var(--fill-color);\n",
              "      border-top-color: var(--fill-color);\n",
              "    }\n",
              "    60% {\n",
              "      border-color: transparent;\n",
              "      border-right-color: var(--fill-color);\n",
              "    }\n",
              "    80% {\n",
              "      border-color: transparent;\n",
              "      border-right-color: var(--fill-color);\n",
              "      border-bottom-color: var(--fill-color);\n",
              "    }\n",
              "    90% {\n",
              "      border-color: transparent;\n",
              "      border-bottom-color: var(--fill-color);\n",
              "    }\n",
              "  }\n",
              "</style>\n",
              "\n",
              "  <script>\n",
              "    async function quickchart(key) {\n",
              "      const quickchartButtonEl =\n",
              "        document.querySelector('#' + key + ' button');\n",
              "      quickchartButtonEl.disabled = true;  // To prevent multiple clicks.\n",
              "      quickchartButtonEl.classList.add('colab-df-spinner');\n",
              "      try {\n",
              "        const charts = await google.colab.kernel.invokeFunction(\n",
              "            'suggestCharts', [key], {});\n",
              "      } catch (error) {\n",
              "        console.error('Error during call to suggestCharts:', error);\n",
              "      }\n",
              "      quickchartButtonEl.classList.remove('colab-df-spinner');\n",
              "      quickchartButtonEl.classList.add('colab-df-quickchart-complete');\n",
              "    }\n",
              "    (() => {\n",
              "      let quickchartButtonEl =\n",
              "        document.querySelector('#df-f11b211d-0321-45c6-8846-8e1942e58a7b button');\n",
              "      quickchartButtonEl.style.display =\n",
              "        google.colab.kernel.accessAllowed ? 'block' : 'none';\n",
              "    })();\n",
              "  </script>\n",
              "</div>\n",
              "    </div>\n",
              "  </div>\n"
            ],
            "application/vnd.google.colaboratory.intrinsic+json": {
              "type": "dataframe",
              "variable_name": "df",
              "summary": "{\n  \"name\": \"df\",\n  \"rows\": 27481,\n  \"fields\": [\n    {\n      \"column\": \"text\",\n      \"properties\": {\n        \"dtype\": \"string\",\n        \"num_unique_values\": 27480,\n        \"samples\": [\n          \" Enjoy! Family trumps everything\",\n          \" --of them kinda turns me off of it all.  And then I buy more of them and dig a deeper hole, etc. ;;\",\n          \"Clive it`s my birthday pat me  http://apps.facebook.com/dogbook/profile/view/6386106\"\n        ],\n        \"semantic_type\": \"\",\n        \"description\": \"\"\n      }\n    },\n    {\n      \"column\": \"selected_text\",\n      \"properties\": {\n        \"dtype\": \"string\",\n        \"num_unique_values\": 22463,\n        \"samples\": [\n          \"we win\",\n          \"YES!!! haahaaa.! break out the jellybeaniesss!\",\n          \"hay wats ur AIM? we should chat\"\n        ],\n        \"semantic_type\": \"\",\n        \"description\": \"\"\n      }\n    },\n    {\n      \"column\": \"sentiment\",\n      \"properties\": {\n        \"dtype\": \"category\",\n        \"num_unique_values\": 3,\n        \"samples\": [\n          \"neutral\",\n          \"negative\",\n          \"positive\"\n        ],\n        \"semantic_type\": \"\",\n        \"description\": \"\"\n      }\n    }\n  ]\n}"
            }
          },
          "metadata": {},
          "execution_count": 37
        }
      ]
    },
    {
      "cell_type": "code",
      "source": [
        "stop_words = set(stopwords.words('english'))\n",
        "lemmatizer = WordNetLemmatizer()\n"
      ],
      "metadata": {
        "id": "8AZUseFCNGQo"
      },
      "execution_count": 41,
      "outputs": []
    },
    {
      "cell_type": "code",
      "source": [
        "def preprocess(text):\n",
        "    tokens = word_tokenize(str(text))  # Ensure text is converted to string\n",
        "    filtered_tokens = [lemmatizer.lemmatize(word.lower()) for word in tokens if word.lower() not in stop_words and word.isalnum()]\n",
        "    return \" \".join(filtered_tokens)"
      ],
      "metadata": {
        "id": "5NKTMIq7NJZz"
      },
      "execution_count": 42,
      "outputs": []
    },
    {
      "cell_type": "code",
      "source": [
        "df['processed_text'] = df['text'].apply(preprocess)\n"
      ],
      "metadata": {
        "id": "t11-ohxcNYzc"
      },
      "execution_count": 43,
      "outputs": []
    },
    {
      "cell_type": "code",
      "source": [
        "from sklearn.model_selection import train_test_split\n"
      ],
      "metadata": {
        "id": "ws5bwZqHNg0o"
      },
      "execution_count": 45,
      "outputs": []
    },
    {
      "cell_type": "code",
      "source": [
        "X_train, X_test, y_train, y_test = train_test_split(df['processed_text'], df['sentiment'], test_size=0.2, random_state=42)\n",
        "\n"
      ],
      "metadata": {
        "id": "CheWjukbM4io"
      },
      "execution_count": 46,
      "outputs": []
    },
    {
      "cell_type": "code",
      "source": [
        "vectorizer = CountVectorizer()\n",
        "X_train_vectorized = vectorizer.fit_transform(X_train)\n",
        "X_test_vectorized = vectorizer.transform(X_test)\n",
        "\n",
        "classifier = MultinomialNB()\n",
        "classifier.fit(X_train_vectorized, y_train)\n",
        "\n",
        "y_pred = classifier.predict(X_test_vectorized)\n",
        "\n",
        "accuracy = accuracy_score(y_test, y_pred)\n",
        "print(f\"Accuracy: {accuracy}\")\n"
      ],
      "metadata": {
        "colab": {
          "base_uri": "https://localhost:8080/"
        },
        "id": "c3F1X-P3M4gQ",
        "outputId": "875f6828-9b03-4ae1-cbe3-f10935e3d0ca"
      },
      "execution_count": 47,
      "outputs": [
        {
          "output_type": "stream",
          "name": "stdout",
          "text": [
            "Accuracy: 0.6518100782244861\n"
          ]
        }
      ]
    },
    {
      "cell_type": "markdown",
      "source": [
        "SENTIMENT ANALYSIS USING LSTM\n"
      ],
      "metadata": {
        "id": "OX7AdZH-Nq5E"
      }
    },
    {
      "cell_type": "code",
      "source": [
        "df['text'].fillna('', inplace=True)"
      ],
      "metadata": {
        "id": "IABBiuSFOpct"
      },
      "execution_count": 54,
      "outputs": []
    },
    {
      "cell_type": "code",
      "source": [
        "# Preprocess the data\n",
        "X = df['text'].values\n",
        "y = df['sentiment'].values\n",
        "\n",
        "label_encoder = LabelEncoder()\n",
        "y = label_encoder.fit_transform(y)\n",
        "\n",
        "# Tokenize the text data\n",
        "tokenizer = Tokenizer()\n",
        "tokenizer.fit_on_texts(X)\n",
        "X_sequences = tokenizer.texts_to_sequences(X)\n",
        "\n",
        "# Pad sequences to ensure uniform length\n",
        "max_sequence_length = 100\n",
        "X_padded = pad_sequences(X_sequences, maxlen=max_sequence_length)\n",
        "\n",
        "# Split the data into training and testing sets\n",
        "X_train, X_test, y_train, y_test = train_test_split(X_padded, y, test_size=0.2, random_state=42)\n",
        "\n",
        "# Define the RNN model\n",
        "embedding_dim = 100\n",
        "vocab_size = len(tokenizer.word_index) + 1\n",
        "\n",
        "model = Sequential()\n",
        "model.add(Embedding(vocab_size, embedding_dim, input_length=max_sequence_length))\n",
        "model.add(LSTM(128, dropout=0.2, recurrent_dropout=0.2))\n",
        "model.add(Dense(1, activation='sigmoid'))\n",
        "\n",
        "model.compile(loss='binary_crossentropy', optimizer='adam', metrics=['accuracy'])\n",
        "\n",
        "# Train the model\n",
        "model.fit(X_train, y_train, epochs=5, batch_size=32, validation_data=(X_test, y_test))\n",
        "\n",
        "# Evaluate the model\n",
        "loss, accuracy = model.evaluate(X_test, y_test)\n",
        "print(f\"Test Loss: {loss}, Test Accuracy: {accuracy}\")"
      ],
      "metadata": {
        "colab": {
          "base_uri": "https://localhost:8080/"
        },
        "id": "mpBlrEdbOcOw",
        "outputId": "485ec10a-75f7-4341-9163-abee9d159cdd"
      },
      "execution_count": 55,
      "outputs": [
        {
          "output_type": "stream",
          "name": "stderr",
          "text": [
            "WARNING:tensorflow:Layer lstm will not use cuDNN kernels since it doesn't meet the criteria. It will use a generic GPU kernel as fallback when running on GPU.\n"
          ]
        },
        {
          "output_type": "stream",
          "name": "stdout",
          "text": [
            "Epoch 1/5\n",
            "687/687 [==============================] - 149s 211ms/step - loss: -2.6297 - accuracy: 0.4068 - val_loss: -10.4423 - val_accuracy: 0.4364\n",
            "Epoch 2/5\n",
            "687/687 [==============================] - 127s 185ms/step - loss: -21.5278 - accuracy: 0.4482 - val_loss: -30.8078 - val_accuracy: 0.4595\n",
            "Epoch 3/5\n",
            "687/687 [==============================] - 124s 181ms/step - loss: -45.1644 - accuracy: 0.4883 - val_loss: -43.5180 - val_accuracy: 0.4735\n",
            "Epoch 4/5\n",
            "687/687 [==============================] - 128s 186ms/step - loss: -70.7260 - accuracy: 0.5009 - val_loss: -66.8974 - val_accuracy: 0.4592\n",
            "Epoch 5/5\n",
            "687/687 [==============================] - 126s 183ms/step - loss: -99.0351 - accuracy: 0.5341 - val_loss: -88.1778 - val_accuracy: 0.4815\n",
            "172/172 [==============================] - 5s 30ms/step - loss: -88.1778 - accuracy: 0.4815\n",
            "Test Loss: -88.17784118652344, Test Accuracy: 0.4815353751182556\n"
          ]
        }
      ]
    },
    {
      "cell_type": "markdown",
      "source": [
        "SIMPLE RNN"
      ],
      "metadata": {
        "id": "hl6sXRk6RmRG"
      }
    },
    {
      "cell_type": "code",
      "source": [
        "from tensorflow.keras.layers import SimpleRNN, Dense, Embedding\n"
      ],
      "metadata": {
        "id": "yMJVg0-uOhow"
      },
      "execution_count": 56,
      "outputs": []
    },
    {
      "cell_type": "code",
      "source": [
        "embedding_dim = 100\n",
        "vocab_size = len(tokenizer.word_index) + 1\n",
        "\n",
        "model = Sequential()\n",
        "model.add(Embedding(vocab_size, embedding_dim, input_length=max_sequence_length))\n",
        "model.add(SimpleRNN(128))  # Only SimpleRNN layer\n",
        "model.add(Dense(1, activation='sigmoid'))\n",
        "\n",
        "model.compile(loss='binary_crossentropy', optimizer='adam', metrics=['accuracy'])\n",
        "\n",
        "# Train the model\n",
        "model.fit(X_train, y_train, epochs=5, batch_size=32, validation_data=(X_test, y_test))\n",
        "\n",
        "# Evaluate the model\n",
        "loss, accuracy = model.evaluate(X_test, y_test)\n",
        "print(f\"Test Loss: {loss}, Test Accuracy: {accuracy}\")"
      ],
      "metadata": {
        "colab": {
          "base_uri": "https://localhost:8080/"
        },
        "id": "2RMKTDo0Rir1",
        "outputId": "b119639e-af72-491d-8cca-1377ce3920dd"
      },
      "execution_count": 57,
      "outputs": [
        {
          "output_type": "stream",
          "name": "stdout",
          "text": [
            "Epoch 1/5\n",
            "687/687 [==============================] - 80s 113ms/step - loss: -0.9706 - accuracy: 0.4103 - val_loss: -3.4443 - val_accuracy: 0.4450\n",
            "Epoch 2/5\n",
            "687/687 [==============================] - 49s 72ms/step - loss: -7.9756 - accuracy: 0.4502 - val_loss: -14.3769 - val_accuracy: 0.4357\n",
            "Epoch 3/5\n",
            "687/687 [==============================] - 50s 73ms/step - loss: -27.2138 - accuracy: 0.4786 - val_loss: -19.0996 - val_accuracy: 0.4391\n",
            "Epoch 4/5\n",
            "687/687 [==============================] - 49s 71ms/step - loss: -49.5177 - accuracy: 0.4863 - val_loss: -43.2001 - val_accuracy: 0.4501\n",
            "Epoch 5/5\n",
            "687/687 [==============================] - 49s 71ms/step - loss: -71.6837 - accuracy: 0.4919 - val_loss: -68.5928 - val_accuracy: 0.4408\n",
            "172/172 [==============================] - 2s 9ms/step - loss: -68.5928 - accuracy: 0.4408\n",
            "Test Loss: -68.5927963256836, Test Accuracy: 0.44078588485717773\n"
          ]
        }
      ]
    },
    {
      "cell_type": "code",
      "source": [],
      "metadata": {
        "id": "OiLVjuA3RjWx"
      },
      "execution_count": null,
      "outputs": []
    }
  ]
}